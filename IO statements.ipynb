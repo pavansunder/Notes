{
 "cells": [
  {
   "cell_type": "markdown",
   "metadata": {},
   "source": [
    "# Input/Output Statements"
   ]
  },
  {
   "cell_type": "markdown",
   "metadata": {},
   "source": [
    "#### There are 3 ways of giving input:\n",
    "\n",
    ">1.**Directly passing the value**\n",
    "\n",
    ">2.**Explicitly storing the value in a variable and passing the variable. A variable is a container/memory location thats stores a certain value or an object**\n",
    "\n",
    ">3.**Accepting input from the user during runtime using built-in input() method**"
   ]
  },
  {
   "cell_type": "code",
   "execution_count": null,
   "metadata": {},
   "outputs": [],
   "source": [
    "# explicitly storing a value in a variable\n",
    "\n",
    "var=10 # value 10 is stored in variable var. It is an integer (datatype) as it does not have any fractional part"
   ]
  },
  {
   "cell_type": "markdown",
   "metadata": {},
   "source": [
    "<p style=\"color:blue; font-size:14px; font-weight:bold; font-style:italic\"> \n",
    "Note: Observe the statement above; We are not explicitly mentioning the type of data that we are storing in the variable. In python we need not declare a type of data explicitly when we create a variable. It automatically determines the type of data depending on the value assigned to the variable.\n",
    "</p>"
   ]
  },
  {
   "cell_type": "code",
   "execution_count": 2,
   "metadata": {},
   "outputs": [
    {
     "data": {
      "text/plain": [
       "int"
      ]
     },
     "execution_count": 2,
     "metadata": {},
     "output_type": "execute_result"
    }
   ],
   "source": [
    "type(var) # type is a built-in method to check the type of value stored in the variable\n",
    "\n",
    "#observe the o/p; python automatically determines the type of data as integer."
   ]
  },
  {
   "cell_type": "markdown",
   "metadata": {},
   "source": [
    "<p style=\"color:blue; font-size:14px; font-weight:bold; font-style:italic\"> \n",
    "Python has many datatypes such as:<br/>\n",
    "1. Integer (number without fractional part) <br/>\n",
    "2. Floating point number (decimal or number with fractional parts)<br/>\n",
    "3. Complex number (number with real and imaginary parts)<br/>\n",
    "4. Boolean (value like True or False)<br/>\n",
    "4. String (character(s) defined within single/double quotes)<br/>\n",
    "4. List (collection of objects within square braces) <br/>\n",
    "5. Tuple (collection of objects within parentheses)<br/>\n",
    "6. Dictionary (collection of objects within curly braces having key-value pairs) , etc</p>"
   ]
  },
  {
   "cell_type": "markdown",
   "metadata": {},
   "source": [
    "## Accepting input from user using - Input() method\n",
    "\n",
    "#### Input() method accepts data from the user during runtime and evaluates it.\n",
    "#### When input() function executes program, flow will be stopped until the user has given an input\n",
    "#### Input() always<span style=\"color:blue; font-size:16px; font-style:italic\"> converts the user input to a string</span> even if the user enters a number. We need to later explicitly convert it to the desired type (called as Type casting)\n",
    "#### The text or message display on the output screen to ask a user to enter input value<span style=\"color:blue; font-size:16px; font-style:italic\"> is optional</span> called as prompt.\n",
    "#### syntax:\n",
    "**```input(prompt)```**"
   ]
  },
  {
   "cell_type": "code",
   "execution_count": 3,
   "metadata": {},
   "outputs": [
    {
     "name": "stdout",
     "output_type": "stream",
     "text": [
      "please enter a value: 10\n"
     ]
    }
   ],
   "source": [
    "accept=input('please enter a value: ')"
   ]
  },
  {
   "cell_type": "code",
   "execution_count": 4,
   "metadata": {},
   "outputs": [
    {
     "data": {
      "text/plain": [
       "str"
      ]
     },
     "execution_count": 4,
     "metadata": {},
     "output_type": "execute_result"
    }
   ],
   "source": [
    "type(accept)\n",
    "#observe the output, the type of data is string(str), automatically converted by python, even though we entered the number "
   ]
  },
  {
   "cell_type": "code",
   "execution_count": 5,
   "metadata": {},
   "outputs": [
    {
     "data": {
      "text/plain": [
       "int"
      ]
     },
     "execution_count": 5,
     "metadata": {},
     "output_type": "execute_result"
    }
   ],
   "source": [
    "# Further we need to convert it to the desired type (type casting) if necessary.\n",
    "# we have entered 10 and we want it as interger not as string then we have to use the appropriate built-in method to convert\n",
    "\n",
    "accept=int(accept) # converting string (str) to integer (int) using built-in method int\n",
    "type(accept)\n",
    "# now check the type, the type will be int"
   ]
  },
  {
   "cell_type": "markdown",
   "metadata": {},
   "source": [
    "<p style=\"color:blue; font-size:14px; font-weight:bold; font-style:italic\"> \n",
    "Note: like int for integer, we have other built=in methods to convert the input data to other types such as:<br/>\n",
    "1.float for floating point numbers<br/>\n",
    "2.complex for complex numbers<br/>\n",
    "3.bool for boolean<br/>\n",
    "4.list for lists<br/>\n",
    "5.tuple to tuples<br/>\n",
    "6.dict for dictionary</p>"
   ]
  },
  {
   "cell_type": "markdown",
   "metadata": {},
   "source": [
    "## print()\n",
    "\n",
    "#### The print() function prints the specified message (which can be value expicilty stored in a variable or accepted from the user) to the screen, or other standard output device.\n",
    "#### The message can be a string, or any other object, the object will be converted into a string before written to the screen.\n",
    "#### syntax:\n",
    "**```print(object(s), sep=separator, end=end, file=file, flush=flush)```**\n",
    "\n",
    ">***```object(s) - Any object(s) that need to be displayed on screen.```***\n",
    "\n",
    ">***```sep - seperator - Optional. Specify how to separate the objects, if there is more than one. Default is ' '(space)```***\n",
    ">***```end - Optional. Specify what to print at the end. Default is '\\n' (line feed)```***\n",
    "\n",
    ">***```file - Optional. An object with a write method. Default is sys.stdout```***\n",
    "\n",
    ">***```flush - Optional. A Boolean, specifying if the output is flushed (True) or buffered (False). Default is False```***"
   ]
  },
  {
   "cell_type": "code",
   "execution_count": 6,
   "metadata": {},
   "outputs": [
    {
     "name": "stdout",
     "output_type": "stream",
     "text": [
      "10\n"
     ]
    }
   ],
   "source": [
    "obj=10\n",
    "print(10)"
   ]
  },
  {
   "cell_type": "code",
   "execution_count": 7,
   "metadata": {},
   "outputs": [
    {
     "name": "stdout",
     "output_type": "stream",
     "text": [
      "Hello!\n"
     ]
    }
   ],
   "source": [
    "# let us print an object which is a string.\n",
    "# consider printing single-line string\n",
    "\n",
    "obj='Hello!'\n",
    "print(obj)"
   ]
  },
  {
   "cell_type": "code",
   "execution_count": 8,
   "metadata": {},
   "outputs": [
    {
     "name": "stdout",
     "output_type": "stream",
     "text": [
      "\n",
      "Hello! \n",
      "My name is Pavan\n",
      "\n"
     ]
    }
   ],
   "source": [
    "# let us print multi-line string\n",
    "# Multi-line strings are entered within triple quotes\n",
    "\n",
    "multi_string='''\n",
    "Hello! \n",
    "My name is Pavan\n",
    "'''\n",
    "print(multi_string)"
   ]
  },
  {
   "cell_type": "code",
   "execution_count": 9,
   "metadata": {},
   "outputs": [
    {
     "name": "stdout",
     "output_type": "stream",
     "text": [
      "10:20\n"
     ]
    }
   ],
   "source": [
    "# using a seperator\n",
    "print(10,20,sep=':')"
   ]
  },
  {
   "cell_type": "code",
   "execution_count": 10,
   "metadata": {},
   "outputs": [
    {
     "name": "stdout",
     "output_type": "stream",
     "text": [
      "10 this is the end"
     ]
    }
   ],
   "source": [
    "# using end\n",
    "print(10,end=' this is the end')"
   ]
  },
  {
   "cell_type": "markdown",
   "metadata": {},
   "source": [
    "#### we have created a plain text file called <span style=\"color:blue\">print_file_arg_demo\"</span> to demonstrate file argument in print function:[Click Here](http://localhost:8888/edit/print_file_arg_demo) to open the file\n",
    "#### when we pass the created file as file argument in print function, the output is written directly to the file and does not print on the screen"
   ]
  },
  {
   "cell_type": "code",
   "execution_count": 11,
   "metadata": {},
   "outputs": [],
   "source": [
    "# we initially open the file created giving the permission to write (\"w\") with built-in method open()\n",
    "# we then pass the file as an argument in print \n",
    "fl=open(\"print_file_arg_demo\",\"w\")\n",
    "print('THE FILE NAME IS: print_file_arg_demo',file=fl)\n",
    "fl.close() # we need to close the file only then the result gets written to the file.\n",
    "\n",
    "# if at all we want to write the result to the file without closing it, we have to set flush=True in print statement\n",
    "# flushing forces the buffer content into the file without closing it"
   ]
  },
  {
   "cell_type": "markdown",
   "metadata": {},
   "source": [
    "##### [Click Here](http://localhost:8888/edit/print_file_arg_demo) to check out the result directly printed in the  file"
   ]
  },
  {
   "cell_type": "markdown",
   "metadata": {},
   "source": [
    "### Formatting using placeholders\n",
    "\n",
    "#### Placeholders basically stands for taking the place of something or we can imagine them as containers that takes some data in them.\n",
    "#### In python, we can apply two formatting ways:\n",
    "> ***1. using placeholder represented by string modulus operator %***\n",
    "\n",
    "> ***2. using placeholder represented by pair of curly braces {} and calling str.format() method***\n"
   ]
  },
  {
   "cell_type": "markdown",
   "metadata": {},
   "source": [
    "### Using %\n",
    "\n",
    "#### we have different % formats for different types of data. The most common ones are as follows:\n",
    "<p style=\"color:blue; font-size:14px; font-weight:bold; font-style:italic\"> \n",
    "1. %d or %i - Signed integer<br/>\n",
    "2. %f or %F - Floating point decimal<br/>\n",
    "3. %s - String (converts any Python object using str())<br/>\n",
    "4. %r - String (converts any Python object using repr()) <br/>\n",
    "5. %a - String (converts any Python object using ascii())<br/>\n",
    "6. %x - Signed hexadecimal(lowercase) <br/>\n",
    "7. %X - Signed hexadecimal(uppercase) <br/>\n",
    "8. %e - Floating point exponential format (lowercase)<br/>\n",
    "9. %E - Floating point exponential format (uppercase)<br/>\n",
    "10. %o - Signed octal<br/>\n",
    "please refer documentation for few more formats</p>\n"
   ]
  },
  {
   "cell_type": "code",
   "execution_count": 12,
   "metadata": {},
   "outputs": [
    {
     "name": "stdout",
     "output_type": "stream",
     "text": [
      "10 is integer format\n",
      "10.215600 is float format\n",
      "10.22 is float format\n",
      "pavan is string format\n",
      "10 is string format\n",
      "True is string format\n"
     ]
    }
   ],
   "source": [
    "print('%d is integer format'%(10))\n",
    "print('%f is float format'%(10.2156))\n",
    "print('%.2f is float format'%(10.2156)) # we can specify the the number of decimal places we would like to print by adding . followed by number of decimal places before f\n",
    "print('%s is string format'%('pavan'))\n",
    "\n",
    "# observe 2 examples below:  %s converts any object to string using str() function\n",
    "\n",
    "print('%s is string format'%(10)) # here even though we give 10, it gets converted to string\n",
    "print('%s is string format'%(True)) # here even though we give True (boolean), it gets converted to string "
   ]
  },
  {
   "cell_type": "markdown",
   "metadata": {},
   "source": [
    "### Using {} along with str.format() method\n",
    "\n",
    "#### This works by inserting placeholders defined by a pair of curly braces {} — into a string and calling the str.format() method. \n",
    "#### We’ll pass into the method the value we want to concatenate with the string. This value will be passed through in the same place that our placeholder is positioned when we run the program."
   ]
  },
  {
   "cell_type": "code",
   "execution_count": 13,
   "metadata": {},
   "outputs": [
    {
     "name": "stdout",
     "output_type": "stream",
     "text": [
      "My name is pavan\n"
     ]
    }
   ],
   "source": [
    "#Ex 1:\n",
    "\n",
    "print('My {} is {}'.format('name','pavan'))"
   ]
  },
  {
   "cell_type": "code",
   "execution_count": 14,
   "metadata": {},
   "outputs": [
    {
     "name": "stdout",
     "output_type": "stream",
     "text": [
      "My age is 28 yrs\n"
     ]
    }
   ],
   "source": [
    "#Ex 2:\n",
    "\n",
    "print('My {} is {} yrs'.format('age',28))"
   ]
  },
  {
   "cell_type": "markdown",
   "metadata": {},
   "source": [
    "<p style=\"color:blue; font-size:14px; font-weight:bold; font-style:italic\"> \n",
    "We can reorder the formatter with positional arguments:<br/>\n",
    "The values that exist inside format() method are essentially the tuple data type and they can be indexed.The index starts from 0,1,2,.... \n",
    "The first value is indexed as 0, second value as 1 .....and so on.<br/>\n",
    "Therefore we can pass these index positions of the value within the curly braces according to our requirement due to which the corresponding value gets fit in it.\n",
    "</p>"
   ]
  },
  {
   "cell_type": "code",
   "execution_count": 15,
   "metadata": {},
   "outputs": [
    {
     "name": "stdout",
     "output_type": "stream",
     "text": [
      "my age is 28 yrs\n",
      "my age is 28 yrs\n"
     ]
    }
   ],
   "source": [
    "print('my {0} is {1} yrs'.format('age',28))\n",
    " \n",
    "print('my {1} is {0} yrs'.format(28,'age')) "
   ]
  },
  {
   "cell_type": "markdown",
   "metadata": {},
   "source": [
    "<p style=\"color:blue; font-size:14px; font-weight:bold; font-style:italic\"> \n",
    "we can mention within the place holder the field size to be allotted for the value/argument by using colon (:) like <br/> {index of the value : field size to be alloted for the value}\n",
    "</p>\n"
   ]
  },
  {
   "cell_type": "code",
   "execution_count": 16,
   "metadata": {},
   "outputs": [
    {
     "name": "stdout",
     "output_type": "stream",
     "text": [
      "pavan  sunder\n"
     ]
    }
   ],
   "source": [
    "print('{0:7}{1}'.format('pavan','sunder')) # observe field size allotted for value at 0th index position is 7, therefore the value at index position 1 gets printed after 7 character spaces"
   ]
  },
  {
   "cell_type": "markdown",
   "metadata": {},
   "source": [
    "<p style=\"color:blue; font-size:14px; font-weight:bold; font-style:italic\"> \n",
    "we can even specify the alignment type within the place holder using:<br/>\n",
    "< - for left alignment (by default strings are lift aligned) <br/>\n",
    "^ - for center alignment<br/>\n",
    "> - for right alignment\n",
    "</p>\n"
   ]
  },
  {
   "cell_type": "code",
   "execution_count": 17,
   "metadata": {},
   "outputs": [
    {
     "name": "stdout",
     "output_type": "stream",
     "text": [
      "pavan             \n",
      "      pavan       \n",
      "             pavan\n"
     ]
    }
   ],
   "source": [
    "# In this example let us allot field size as 18, and see the o/p by giving different alignment type before field size \n",
    "\n",
    "print('{0:<18}'.format('pavan')) # left alignment\n",
    "print('{0:^18}'.format('pavan')) # center alignment\n",
    "print('{0:>18}'.format('pavan')) # right alignment"
   ]
  },
  {
   "cell_type": "markdown",
   "metadata": {},
   "source": [
    "<p style=\"color:blue; font-size:14px; font-weight:bold; font-style:italic\"> \n",
    "we can even specify the character before the alignment operator that has to be filled in the whitespaces of allotted field size the place holder using:<br/>\n",
    "</p>\n"
   ]
  },
  {
   "cell_type": "code",
   "execution_count": 18,
   "metadata": {},
   "outputs": [
    {
     "name": "stdout",
     "output_type": "stream",
     "text": [
      "pavan*************\n",
      "******pavan*******\n",
      "*************pavan\n"
     ]
    }
   ],
   "source": [
    "# In this example let us allot field size as 18, add * as character to be filled in whitespaces\n",
    "print('{0:*<18}'.format('pavan')) # left alignment\n",
    "print('{0:*^18}'.format('pavan')) # center alignment\n",
    "print('{0:*>18}'.format('pavan')) # right alignment"
   ]
  },
  {
   "cell_type": "code",
   "execution_count": 19,
   "metadata": {},
   "outputs": [
    {
     "ename": "IndexError",
     "evalue": "tuple index out of range",
     "output_type": "error",
     "traceback": [
      "\u001b[1;31m---------------------------------------------------------------------------\u001b[0m",
      "\u001b[1;31mIndexError\u001b[0m                                Traceback (most recent call last)",
      "\u001b[1;32m<ipython-input-19-2ddc2a7a9b99>\u001b[0m in \u001b[0;36m<module>\u001b[1;34m()\u001b[0m\n\u001b[0;32m      1\u001b[0m \u001b[1;31m# we get an error if we try to pass index value which is out of range\u001b[0m\u001b[1;33m\u001b[0m\u001b[1;33m\u001b[0m\u001b[0m\n\u001b[1;32m----> 2\u001b[1;33m \u001b[0mprint\u001b[0m\u001b[1;33m(\u001b[0m\u001b[1;34m'{1}{2}'\u001b[0m\u001b[1;33m.\u001b[0m\u001b[0mformat\u001b[0m\u001b[1;33m(\u001b[0m\u001b[1;34m'pavan'\u001b[0m\u001b[1;33m,\u001b[0m\u001b[1;34m'sunder'\u001b[0m\u001b[1;33m)\u001b[0m\u001b[1;33m)\u001b[0m\u001b[1;33m\u001b[0m\u001b[0m\n\u001b[0m",
      "\u001b[1;31mIndexError\u001b[0m: tuple index out of range"
     ]
    }
   ],
   "source": [
    "# we get an error if we try to pass index value which is out of range\n",
    "print('{1}{2}'.format('pavan','sunder')) "
   ]
  },
  {
   "cell_type": "markdown",
   "metadata": {},
   "source": [
    "<p style=\"color:blue; font-size:14px; font-weight:bold; font-style:italic\"> \n",
    "We can also reorder formatters with parameterized arguments:<br/>\n",
    "In addition to positional arguments, we can also introduce parameterized arguments that are called by their parameter name\n",
    "</p>"
   ]
  },
  {
   "cell_type": "code",
   "execution_count": 20,
   "metadata": {},
   "outputs": [
    {
     "name": "stdout",
     "output_type": "stream",
     "text": [
      "my name is Pavan sunder\n"
     ]
    }
   ],
   "source": [
    "print('{0} is {ps}'.format('my name',ps='Pavan sunder')) "
   ]
  },
  {
   "cell_type": "markdown",
   "metadata": {},
   "source": [
    "<p style=\"color:blue; font-size:14px; font-weight:bold; font-style:italic\"> \n",
    "We can fill in the parameterized argument alongside positional arguments, and can move these arguments around to change the resulting string\n",
    "</p>"
   ]
  },
  {
   "cell_type": "code",
   "execution_count": 21,
   "metadata": {},
   "outputs": [
    {
     "name": "stdout",
     "output_type": "stream",
     "text": [
      "Pavan sunder is my name\n"
     ]
    }
   ],
   "source": [
    "print('{ps} is {0}'.format('my name',ps='Pavan sunder')) "
   ]
  },
  {
   "cell_type": "markdown",
   "metadata": {},
   "source": [
    "<p style=\"color:blue; font-size:14px; font-weight:bold; font-style:italic\"> \n",
    "The integer argument can be displayed as desired type by specifying the format specifier within the placeholder\n",
    "</p>"
   ]
  },
  {
   "cell_type": "code",
   "execution_count": 22,
   "metadata": {},
   "outputs": [
    {
     "name": "stdout",
     "output_type": "stream",
     "text": [
      "The price of the item is 25.000000\n"
     ]
    }
   ],
   "source": [
    "# we pass integer argument, but we will print it as float by giving :f within the curly braces\n",
    "print('The {0} of the item is {1:f}'.format('price',25)) "
   ]
  },
  {
   "cell_type": "markdown",
   "metadata": {},
   "source": [
    "<p style=\"color:blue; font-size:14px; font-weight:bold; font-style:italic\"> \n",
    "However we get an error if we try to represent float as integer\n",
    "</p>"
   ]
  },
  {
   "cell_type": "code",
   "execution_count": 23,
   "metadata": {
    "scrolled": true
   },
   "outputs": [
    {
     "ename": "ValueError",
     "evalue": "Unknown format code 'd' for object of type 'float'",
     "output_type": "error",
     "traceback": [
      "\u001b[1;31m---------------------------------------------------------------------------\u001b[0m",
      "\u001b[1;31mValueError\u001b[0m                                Traceback (most recent call last)",
      "\u001b[1;32m<ipython-input-23-336489a00119>\u001b[0m in \u001b[0;36m<module>\u001b[1;34m()\u001b[0m\n\u001b[1;32m----> 1\u001b[1;33m \u001b[0mprint\u001b[0m\u001b[1;33m(\u001b[0m\u001b[1;34m'The {0} of the item is {1:d}'\u001b[0m\u001b[1;33m.\u001b[0m\u001b[0mformat\u001b[0m\u001b[1;33m(\u001b[0m\u001b[1;34m'price'\u001b[0m\u001b[1;33m,\u001b[0m\u001b[1;36m25.5673\u001b[0m\u001b[1;33m)\u001b[0m\u001b[1;33m)\u001b[0m \u001b[1;31m# observe the value gets rounded\u001b[0m\u001b[1;33m\u001b[0m\u001b[0m\n\u001b[0m",
      "\u001b[1;31mValueError\u001b[0m: Unknown format code 'd' for object of type 'float'"
     ]
    }
   ],
   "source": [
    "print('The {0} of the item is {1:d}'.format('price',25.5673)) # observe the value gets rounded"
   ]
  },
  {
   "cell_type": "markdown",
   "metadata": {},
   "source": [
    "<p style=\"color:blue; font-size:14px; font-weight:bold; font-style:italic\"> \n",
    "We can even mention the number of decimal places we would like to print, within the placeholder by adding . followed by number of decimal places we would like to print before f<br/>\n",
    "Modifying precision will cause the value to be rounded\n",
    "</p>"
   ]
  },
  {
   "cell_type": "code",
   "execution_count": 24,
   "metadata": {
    "scrolled": true
   },
   "outputs": [
    {
     "name": "stdout",
     "output_type": "stream",
     "text": [
      "The price of the item is 25.57\n"
     ]
    }
   ],
   "source": [
    "print('The {0} of the item is {1:.2f}'.format('price',25.5673)) # observe the value gets rounded"
   ]
  },
  {
   "cell_type": "markdown",
   "metadata": {},
   "source": [
    "<p style=\"color:blue; font-size:14px; font-weight:bold; font-style:italic\"> \n",
    "We can also pass variables as arguments in the format method\n",
    "</p>"
   ]
  },
  {
   "cell_type": "code",
   "execution_count": 25,
   "metadata": {},
   "outputs": [
    {
     "name": "stdout",
     "output_type": "stream",
     "text": [
      "my name is pavan\n"
     ]
    }
   ],
   "source": [
    "name = 'pavan'\n",
    "\n",
    "print('my name is {}'.format(name))"
   ]
  },
  {
   "cell_type": "markdown",
   "metadata": {},
   "source": [
    "<p style=\"color:blue; font-size:14px; font-weight:bold; font-style:italic\"> \n",
    "We can also construct a string with a placeholder and pass the desired value \n",
    "</p>"
   ]
  },
  {
   "cell_type": "code",
   "execution_count": 26,
   "metadata": {},
   "outputs": [
    {
     "name": "stdout",
     "output_type": "stream",
     "text": [
      "my name is pavan\n"
     ]
    }
   ],
   "source": [
    "sample=\"my name is {}\"\n",
    "\n",
    "print(sample.format('pavan'))"
   ]
  },
  {
   "cell_type": "markdown",
   "metadata": {},
   "source": [
    "<p style=\"color:blue; font-size:14px; font-weight:bold; font-style:italic\"> \n",
    "Formatting in print function makes data organised and visually better\n",
    "</p>"
   ]
  },
  {
   "cell_type": "code",
   "execution_count": 27,
   "metadata": {},
   "outputs": [
    {
     "name": "stdout",
     "output_type": "stream",
     "text": [
      "..........welcome to python programming...........\n"
     ]
    }
   ],
   "source": [
    "heading='{:.^50}'\n",
    "print(heading.format(\"welcome to python programming\"))"
   ]
  },
  {
   "cell_type": "code",
   "execution_count": 28,
   "metadata": {},
   "outputs": [
    {
     "name": "stdout",
     "output_type": "stream",
     "text": [
      "This is without formatting:\n",
      "\n",
      "pavan sunder 28\n",
      "malini sunder 54\n",
      "sham sunder 58\n",
      "\n",
      "This is with formatting: observe how well data looks visually\n",
      "\n",
      "pavan sunder      28\n",
      "malini sunder     54\n",
      "sham sunder       58\n"
     ]
    }
   ],
   "source": [
    "# suppose we have a lists of tuples containing names and respective ages and we have to print them as a table\n",
    "# The detailed description of datatypes list and tuple is explained in datatype file\n",
    "# Let us consider two cases: 1. without formatting 2. with formatting and see the o/p\n",
    "\n",
    "data=[('pavan sunder',28), ('malini sunder',54), ('sham sunder',58)]\n",
    "\n",
    "#case 1 : Without formatting\n",
    "print('This is without formatting:\\n')\n",
    "for record in data:\n",
    "    print(record[0],record[1])\n",
    "    \n",
    "#case 2 : With formatting\n",
    "print('\\nThis is with formatting: observe how well data looks visually\\n')\n",
    "for record in data:\n",
    "    print('{:18}{}'.format(record[0],record[1]))"
   ]
  }
 ],
 "metadata": {
  "kernelspec": {
   "display_name": "Python 3",
   "language": "python",
   "name": "python3"
  },
  "language_info": {
   "codemirror_mode": {
    "name": "ipython",
    "version": 3
   },
   "file_extension": ".py",
   "mimetype": "text/x-python",
   "name": "python",
   "nbconvert_exporter": "python",
   "pygments_lexer": "ipython3",
   "version": "3.7.0"
  }
 },
 "nbformat": 4,
 "nbformat_minor": 2
}
