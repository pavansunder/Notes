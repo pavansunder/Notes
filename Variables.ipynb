{
 "cells": [
  {
   "cell_type": "markdown",
   "metadata": {},
   "source": [
    "# Variables\n",
    "\n",
    "#### 1. A variable is a container/memory location where a programmer can store a value. \n",
    "#### 2. Value is either string, numeric etc. Example : \"Sara\", 120, 25.36\n",
    "#### 3. Variables are created when first assigned. \n",
    "#### 4. Variables must be assigned before being referenced.\n",
    "#### 5. The value stored in a variable can be accessed or updated later.\n",
    "#### 6. No declaration required\n",
    "#### 7. The type (string, int, float etc.) of the variable is determined by Python\n",
    "#### 8. The interpreter allocates memory on the basis of the data type of a variable.\n"
   ]
  },
  {
   "cell_type": "markdown",
   "metadata": {},
   "source": [
    "## Variable name Rules:\n",
    "\n",
    "#### 1. Must begin with a letter (a - z, A - B) or underscore (_)\n",
    "#### 2. Other characters can be letters, numbers or _\n",
    "#### 3. Case Sensitive\n",
    "#### 4.Can be any (reasonable) length\n",
    "#### 5. There are some reserved words which you cannot use as a variable name because Python uses them for other things.\n"
   ]
  },
  {
   "cell_type": "markdown",
   "metadata": {},
   "source": [
    "## Good variable name:\n",
    "\n",
    "#### 1. Choose meaningful name instead of short name. name is better than n\n",
    "#### 2.\tMaintain appropriate length of a variable name. Name_of_a_student is too long\n",
    "#### 3. Be consistent. There are few conventions in coding community for giving variable names as follows:\n",
    "</p>\n",
    "<p style=\"font-family:Helvetica; font-size:14px; font-weight:bold; line-height:40px; margin-left:50px\"> \n",
    "a. Generally we can use <span style=\"color:blue\">camel case</span>: first letter is small and following every new word starts with a Capital letter. Eg: studentName, newResult, etc<br/>\n",
    "b.Alternatively,we can use underscore in between words. Eg: student_name, new_result, etc<br/>\n",
    "c. Begin a variable name with an underscore(_) character for a special case.\n",
    "</p> "
   ]
  },
  {
   "cell_type": "markdown",
   "metadata": {},
   "source": [
    "## Assinment syntax:\n",
    "\n",
    "#### The value can be assigned to a variable using assignment operator(=) according to the following syntax:\n",
    "**```variable_name = value```**"
   ]
  },
  {
   "cell_type": "code",
   "execution_count": 7,
   "metadata": {},
   "outputs": [
    {
     "name": "stdout",
     "output_type": "stream",
     "text": [
      "val: 10\n"
     ]
    }
   ],
   "source": [
    "val=10\n",
    "\n",
    "print('val:',val)"
   ]
  },
  {
   "cell_type": "markdown",
   "metadata": {},
   "source": [
    "<p style=\"color:Blue; font-family:Helvetica; font-size:14px; font-weight:bold; font-style:italic\">\n",
    "Note:Assignment can be only from right to left ie val=10 is correct, whereas 10=val is incorrect and gives syntax error as shown below\n",
    "</p>"
   ]
  },
  {
   "cell_type": "code",
   "execution_count": 8,
   "metadata": {},
   "outputs": [
    {
     "ename": "SyntaxError",
     "evalue": "can't assign to literal (<ipython-input-8-c3caedce7bd3>, line 1)",
     "output_type": "error",
     "traceback": [
      "\u001b[1;36m  File \u001b[1;32m\"<ipython-input-8-c3caedce7bd3>\"\u001b[1;36m, line \u001b[1;32m1\u001b[0m\n\u001b[1;33m    10=val\u001b[0m\n\u001b[1;37m          ^\u001b[0m\n\u001b[1;31mSyntaxError\u001b[0m\u001b[1;31m:\u001b[0m can't assign to literal\n"
     ]
    }
   ],
   "source": [
    "10=val"
   ]
  },
  {
   "cell_type": "markdown",
   "metadata": {},
   "source": [
    "### We can assign single value to multiple variables according to following syntax:\n",
    "**```var_1 = var_2 = var_3 =.....= var_n = value```**"
   ]
  },
  {
   "cell_type": "code",
   "execution_count": 9,
   "metadata": {},
   "outputs": [
    {
     "name": "stdout",
     "output_type": "stream",
     "text": [
      "val_1: 10\n",
      "val_2: 10\n"
     ]
    }
   ],
   "source": [
    "val_1 = val_2 = 10\n",
    "\n",
    "print('val_1:',val_1)\n",
    "print('val_2:',val_2)"
   ]
  },
  {
   "cell_type": "markdown",
   "metadata": {},
   "source": [
    "### We can assign multiple values to multiple variables according to following syntax:\n",
    "**```var_1, var_2, ....., var_n = value_1, value_2, ....., value_n```**"
   ]
  },
  {
   "cell_type": "code",
   "execution_count": 10,
   "metadata": {},
   "outputs": [
    {
     "name": "stdout",
     "output_type": "stream",
     "text": [
      "val_1: 10\n",
      "val_2: 20\n"
     ]
    }
   ],
   "source": [
    "val_1, val_2 = 10, 20\n",
    "\n",
    "print('val_1:',val_1)\n",
    "print('val_2:',val_2)"
   ]
  },
  {
   "cell_type": "markdown",
   "metadata": {},
   "source": [
    "### We can reuse variable by simply assigning new value to it"
   ]
  },
  {
   "cell_type": "code",
   "execution_count": 11,
   "metadata": {},
   "outputs": [
    {
     "name": "stdout",
     "output_type": "stream",
     "text": [
      "val before change: 10\n",
      "val after change: 20\n"
     ]
    }
   ],
   "source": [
    "val = 10\n",
    "print('val before change:',val)\n",
    "\n",
    "val = 20\n",
    "print('val after change:',val)"
   ]
  },
  {
   "cell_type": "markdown",
   "metadata": {},
   "source": [
    "### We can swap variables according to following syntax:\n",
    "**```var_1, var_2=var_2,var_1```**"
   ]
  },
  {
   "cell_type": "code",
   "execution_count": 12,
   "metadata": {},
   "outputs": [
    {
     "name": "stdout",
     "output_type": "stream",
     "text": [
      "Before swapping val_1: 10 val_2: 20\n",
      "After swapping val_1: 20 val_2: 10\n"
     ]
    }
   ],
   "source": [
    "val_1 = 10\n",
    "val_2 = 20\n",
    "print('Before swapping val_1:',val_1,'val_2:',val_2)\n",
    "\n",
    "val_1,val_2=val_2,val_1 # swapping\n",
    "print('After swapping val_1:',val_1,'val_2:',val_2)"
   ]
  },
  {
   "cell_type": "markdown",
   "metadata": {},
   "source": [
    "## Special variable: ```__name__```\n",
    "\n",
    "#### This is a special variable discussed in [click the link](http://localhost:8888/notebooks/Special_variable.ipynb)"
   ]
  }
 ],
 "metadata": {
  "kernelspec": {
   "display_name": "Python 3",
   "language": "python",
   "name": "python3"
  },
  "language_info": {
   "codemirror_mode": {
    "name": "ipython",
    "version": 3
   },
   "file_extension": ".py",
   "mimetype": "text/x-python",
   "name": "python",
   "nbconvert_exporter": "python",
   "pygments_lexer": "ipython3",
   "version": "3.7.0"
  }
 },
 "nbformat": 4,
 "nbformat_minor": 2
}
