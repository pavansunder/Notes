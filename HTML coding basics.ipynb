{
 "cells": [
  {
   "cell_type": "markdown",
   "metadata": {},
   "source": [
    "# HTML coding"
   ]
  },
  {
   "cell_type": "markdown",
   "metadata": {},
   "source": [
    "<p style=\"color:Blue; font-family:Georgia; font-size:16px; font-weight:bold; font-style:italic\">\n",
    "Notes:<br/>\n",
    "</p>\n",
    "<p style=\"color:Blue; font-family:Georgia; font-size:16px; font-weight:bold; font-style:italic; line-height:40px; margin-left:50px\"> \n",
    "1. Triple quotes are used to represent strings<br/>\n",
    "2. If we start a string with a single quote, we have to end it with a single quote or if we start a string with double quote, we have to end it with a double quote only, else it will show an error<br/>\n",
    "3. However we can use single quotes in between double quotes or vice versa\n",
    "</p>   "
   ]
  },
  {
   "cell_type": "markdown",
   "metadata": {},
   "source": [
    "<h4>They are also multivalued datatypes represented by <span style=\"color:blue; font-size:16px; font-style:italic\">Key-Value pair</span> and enclosed within <span style=\"color:blue; font-size:16px; font-style:italic\">Curly braces</span></h4>\n"
   ]
  },
  {
   "cell_type": "code",
   "execution_count": 8,
   "metadata": {},
   "outputs": [
    {
     "ename": "SyntaxError",
     "evalue": "invalid syntax (<ipython-input-8-e841e3138dcc>, line 2)",
     "output_type": "error",
     "traceback": [
      "\u001b[1;36m  File \u001b[1;32m\"<ipython-input-8-e841e3138dcc>\"\u001b[1;36m, line \u001b[1;32m2\u001b[0m\n\u001b[1;33m    b=dict(1:a)\u001b[0m\n\u001b[1;37m            ^\u001b[0m\n\u001b[1;31mSyntaxError\u001b[0m\u001b[1;31m:\u001b[0m invalid syntax\n"
     ]
    }
   ],
   "source": [
    "a=(1,2)\n",
    "b=dict(1:a)"
   ]
  },
  {
   "cell_type": "code",
   "execution_count": null,
   "metadata": {},
   "outputs": [],
   "source": []
  },
  {
   "cell_type": "code",
   "execution_count": null,
   "metadata": {},
   "outputs": [],
   "source": []
  }
 ],
 "metadata": {
  "kernelspec": {
   "display_name": "Python 3",
   "language": "python",
   "name": "python3"
  },
  "language_info": {
   "codemirror_mode": {
    "name": "ipython",
    "version": 3
   },
   "file_extension": ".py",
   "mimetype": "text/x-python",
   "name": "python",
   "nbconvert_exporter": "python",
   "pygments_lexer": "ipython3",
   "version": "3.7.0"
  }
 },
 "nbformat": 4,
 "nbformat_minor": 2
}
