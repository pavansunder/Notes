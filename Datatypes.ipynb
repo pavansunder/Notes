{
 "cells": [
  {
   "cell_type": "markdown",
   "metadata": {},
   "source": [
    "# Datatypes\n",
    "\n",
    "#### A datatype represents the type of data stored in memory. In python, ‘everything is an object’ and every object stored in memory has an identity, type and value. \n",
    "\n",
    "#### In general, an object can be a function, variable, data structure or a method.\n",
    "\n",
    "#### Based on the fact whether the values of objects can be changed or not, Python datatypes can be sub categorised into mutable and immutable:\n",
    "\n",
    "#### Mutable datatypes are objects whose values can be modified/changed, once created\n",
    "\n",
    "#### Immutable datatypes are objects whose values cannot be modified/changed, once created.\n",
    "\n",
    "<p style=\"color:Blue; font-family:Helvetica; font-size:14px; font-weight:bold; font-style:italic\">\n",
    "Note:Datatypes need  not be explcitly declared in python, it automatically assigns depending on the value/type of data\n",
    "</p>\n"
   ]
  },
  {
   "cell_type": "markdown",
   "metadata": {},
   "source": [
    "<html><img src=\"jupyter_images\\datatypes.png\",width=500,height=500>"
   ]
  },
  {
   "cell_type": "markdown",
   "metadata": {},
   "source": [
    "## Numeric type - Integer\n",
    "#### Keyword:int\n",
    "\n",
    "#### Represent positive and negative numbers without fractional part"
   ]
  },
  {
   "cell_type": "code",
   "execution_count": 1,
   "metadata": {},
   "outputs": [
    {
     "data": {
      "text/plain": [
       "10"
      ]
     },
     "execution_count": 1,
     "metadata": {},
     "output_type": "execute_result"
    }
   ],
   "source": [
    "a=10\n",
    "a"
   ]
  },
  {
   "cell_type": "code",
   "execution_count": 2,
   "metadata": {},
   "outputs": [
    {
     "data": {
      "text/plain": [
       "int"
      ]
     },
     "execution_count": 2,
     "metadata": {},
     "output_type": "execute_result"
    }
   ],
   "source": [
    "type(a)"
   ]
  },
  {
   "cell_type": "markdown",
   "metadata": {},
   "source": [
    "## Numeric type - Float\n",
    "\n",
    "#### Keyword:float\n",
    "\n",
    "#### Represent positive and negative numbers with fractional part"
   ]
  },
  {
   "cell_type": "code",
   "execution_count": 3,
   "metadata": {},
   "outputs": [
    {
     "data": {
      "text/plain": [
       "10.2"
      ]
     },
     "execution_count": 3,
     "metadata": {},
     "output_type": "execute_result"
    }
   ],
   "source": [
    "a=10.2\n",
    "a"
   ]
  },
  {
   "cell_type": "code",
   "execution_count": 4,
   "metadata": {},
   "outputs": [
    {
     "data": {
      "text/plain": [
       "float"
      ]
     },
     "execution_count": 4,
     "metadata": {},
     "output_type": "execute_result"
    }
   ],
   "source": [
    "type(a)"
   ]
  },
  {
   "cell_type": "markdown",
   "metadata": {},
   "source": [
    "## Numeric type - Complex\n",
    "\n",
    "#### Keyword:complex\n",
    "\n",
    "#### Represent numbers which has real and imaginary parts (this type is specially available in python)"
   ]
  },
  {
   "cell_type": "code",
   "execution_count": 5,
   "metadata": {},
   "outputs": [
    {
     "data": {
      "text/plain": [
       "(10+2j)"
      ]
     },
     "execution_count": 5,
     "metadata": {},
     "output_type": "execute_result"
    }
   ],
   "source": [
    "a=10+2j\n",
    "a"
   ]
  },
  {
   "cell_type": "code",
   "execution_count": 6,
   "metadata": {},
   "outputs": [
    {
     "data": {
      "text/plain": [
       "complex"
      ]
     },
     "execution_count": 6,
     "metadata": {},
     "output_type": "execute_result"
    }
   ],
   "source": [
    "type(a)"
   ]
  },
  {
   "cell_type": "markdown",
   "metadata": {},
   "source": [
    "## Boolean\n",
    "\n",
    "#### Keyword:bool\n",
    "\n",
    "#### Represent logical value like true or false"
   ]
  },
  {
   "cell_type": "code",
   "execution_count": 7,
   "metadata": {},
   "outputs": [
    {
     "data": {
      "text/plain": [
       "True"
      ]
     },
     "execution_count": 7,
     "metadata": {},
     "output_type": "execute_result"
    }
   ],
   "source": [
    "a=True\n",
    "a"
   ]
  },
  {
   "cell_type": "code",
   "execution_count": 8,
   "metadata": {},
   "outputs": [
    {
     "data": {
      "text/plain": [
       "bool"
      ]
     },
     "execution_count": 8,
     "metadata": {},
     "output_type": "execute_result"
    }
   ],
   "source": [
    "type(a)"
   ]
  },
  {
   "cell_type": "code",
   "execution_count": 9,
   "metadata": {},
   "outputs": [
    {
     "data": {
      "text/plain": [
       "False"
      ]
     },
     "execution_count": 9,
     "metadata": {},
     "output_type": "execute_result"
    }
   ],
   "source": [
    "a=False\n",
    "a"
   ]
  },
  {
   "cell_type": "code",
   "execution_count": 10,
   "metadata": {},
   "outputs": [
    {
     "data": {
      "text/plain": [
       "bool"
      ]
     },
     "execution_count": 10,
     "metadata": {},
     "output_type": "execute_result"
    }
   ],
   "source": [
    "type(a)"
   ]
  },
  {
   "cell_type": "markdown",
   "metadata": {},
   "source": [
    "## Strings - Intro\n",
    "\n",
    "#### Keyword:str\n",
    "\n",
    "#### Represents a character/sequence of characters enclosed whithin single/double quotes"
   ]
  },
  {
   "cell_type": "code",
   "execution_count": 11,
   "metadata": {},
   "outputs": [
    {
     "data": {
      "text/plain": [
       "'pavan'"
      ]
     },
     "execution_count": 11,
     "metadata": {},
     "output_type": "execute_result"
    }
   ],
   "source": [
    "a='pavan'\n",
    "a"
   ]
  },
  {
   "cell_type": "code",
   "execution_count": 12,
   "metadata": {},
   "outputs": [
    {
     "data": {
      "text/plain": [
       "'pavan'"
      ]
     },
     "execution_count": 12,
     "metadata": {},
     "output_type": "execute_result"
    }
   ],
   "source": [
    "a=\"pavan\"\n",
    "a"
   ]
  },
  {
   "cell_type": "markdown",
   "metadata": {},
   "source": [
    "<p style=\"color:Blue; font-family:Helvetica; font-size:14px; font-weight:bold; font-style:italic\">\n",
    "Notes:\n",
    "</p>\n",
    "<p style=\"color:Blue; font-family:Helvetica; font-size:14px; font-weight:bold; font-style:italic; line-height:40px; margin-left:50px\"> \n",
    "1. Triple quotes are used to represent strings<br/>\n",
    "2. If we start a string with a single quote, we have to end it with a single quote or if we start a string with double quote, we have to end it with a double quote only, else it will show an error<br/>\n",
    "3. However we can use single quotes in between double quotes or vice versa\n",
    "</p>   "
   ]
  },
  {
   "cell_type": "code",
   "execution_count": 13,
   "metadata": {},
   "outputs": [
    {
     "data": {
      "text/plain": [
       "'My name is pavan\\nI am learning python'"
      ]
     },
     "execution_count": 13,
     "metadata": {},
     "output_type": "execute_result"
    }
   ],
   "source": [
    "# triple quotes for multiline string\n",
    "a='''My name is pavan\n",
    "I am learning python'''\n",
    "a"
   ]
  },
  {
   "cell_type": "code",
   "execution_count": 14,
   "metadata": {},
   "outputs": [
    {
     "ename": "SyntaxError",
     "evalue": "EOL while scanning string literal (<ipython-input-14-a9d7f3920b77>, line 2)",
     "output_type": "error",
     "traceback": [
      "\u001b[1;36m  File \u001b[1;32m\"<ipython-input-14-a9d7f3920b77>\"\u001b[1;36m, line \u001b[1;32m2\u001b[0m\n\u001b[1;33m    a='pavan''\u001b[0m\n\u001b[1;37m              ^\u001b[0m\n\u001b[1;31mSyntaxError\u001b[0m\u001b[1;31m:\u001b[0m EOL while scanning string literal\n"
     ]
    }
   ],
   "source": [
    "# error when we use different types or quotes at the starting and ending\n",
    "a='pavan''"
   ]
  },
  {
   "cell_type": "code",
   "execution_count": 15,
   "metadata": {},
   "outputs": [
    {
     "name": "stdout",
     "output_type": "stream",
     "text": [
      "pavan's\n",
      "pavan\"s\n"
     ]
    }
   ],
   "source": [
    "#we can use single quotes in between double quotes or vise versa\n",
    "a=\"pavan's\"\n",
    "print(a)\n",
    "a='pavan\"s'\n",
    "print(a)"
   ]
  },
  {
   "cell_type": "markdown",
   "metadata": {},
   "source": [
    "## String Indexing\n",
    "\n",
    "#### string elements can be accessed by 'INDEXING' which can be achieved in 2 ways:\n",
    "\n",
    "####     1. Positive indexing - Starts with integer 0, from left to right\n",
    "\n",
    "####     2. Negative indexing - Starts with integer -1, from right to left"
   ]
  },
  {
   "cell_type": "markdown",
   "metadata": {},
   "source": [
    "<html><img src=\"jupyter_images\\string index.png\",width=500>"
   ]
  },
  {
   "cell_type": "code",
   "execution_count": 16,
   "metadata": {},
   "outputs": [
    {
     "name": "stdout",
     "output_type": "stream",
     "text": [
      "p\n",
      "a\n",
      "v\n",
      "a\n",
      "n\n"
     ]
    }
   ],
   "source": [
    "# Positive indexing\n",
    "a='pavan'\n",
    "print(a[0])\n",
    "print(a[1])\n",
    "print(a[2])\n",
    "print(a[3])\n",
    "print(a[4])"
   ]
  },
  {
   "cell_type": "code",
   "execution_count": 17,
   "metadata": {},
   "outputs": [
    {
     "name": "stdout",
     "output_type": "stream",
     "text": [
      "p\n",
      "a\n",
      "v\n",
      "a\n",
      "n\n"
     ]
    }
   ],
   "source": [
    "# Negative indexing\n",
    "a='pavan'\n",
    "print(a[-5])\n",
    "print(a[-4])\n",
    "print(a[-3])\n",
    "print(a[-2])\n",
    "print(a[-1])"
   ]
  },
  {
   "cell_type": "markdown",
   "metadata": {},
   "source": [
    "## String operation - Slicing\n",
    "### Syntax - string [begin index:end index]\n",
    "#### Note: Returns substring from begin index to (end-1) index\n"
   ]
  },
  {
   "cell_type": "code",
   "execution_count": 18,
   "metadata": {},
   "outputs": [
    {
     "data": {
      "text/plain": [
       "'av'"
      ]
     },
     "execution_count": 18,
     "metadata": {},
     "output_type": "execute_result"
    }
   ],
   "source": [
    "a='pavan'\n",
    "a[1:3]"
   ]
  },
  {
   "cell_type": "markdown",
   "metadata": {},
   "source": [
    "<p style=\"color:Blue; font-family:Helvetica; font-size:14px; font-weight:bold; font-style:italic\">\n",
    "Notes:\n",
    "</p>\n",
    "<p style=\"color:Blue; font-family:Helvetica; font-size:14px; font-weight:bold; font-style:italic; line-height:40px; margin-left:50px\"\">\n",
    "1. Begin index is not mandatory. If not specified, returns substring from '0'th  index to (end-1) index<br/>\n",
    "2. End index is not mandatory. If not specified, returns all characters from begin index<br/>\n",
    "3. Both the indices are also not mandatory. If not specified, returns all characters<br/>\n",
    "</p>"
   ]
  },
  {
   "cell_type": "code",
   "execution_count": 19,
   "metadata": {},
   "outputs": [
    {
     "name": "stdout",
     "output_type": "stream",
     "text": [
      "pav\n",
      "avan\n",
      "pavan\n"
     ]
    }
   ],
   "source": [
    "print(a[:3]) #begin index not specified\n",
    "print(a[1:]) #end index not specified\n",
    "print(a[:]) #both indices not specified"
   ]
  },
  {
   "cell_type": "markdown",
   "metadata": {},
   "source": [
    "## String operation - Repetition\n",
    "\n",
    "#### Syntax:\n",
    "**``` \n",
    "string * number of times the string to be repeated(integer)\n",
    "```**"
   ]
  },
  {
   "cell_type": "code",
   "execution_count": 20,
   "metadata": {},
   "outputs": [
    {
     "data": {
      "text/plain": [
       "'pavanpavanpavan'"
      ]
     },
     "execution_count": 20,
     "metadata": {},
     "output_type": "execute_result"
    }
   ],
   "source": [
    "a='pavan'\n",
    "a*3"
   ]
  },
  {
   "cell_type": "markdown",
   "metadata": {},
   "source": [
    "## String operation - Concatenation\n",
    "\n",
    "#### Syntax:\n",
    "**```string 1 + string 2 + ................. + string n```**"
   ]
  },
  {
   "cell_type": "code",
   "execution_count": 21,
   "metadata": {},
   "outputs": [
    {
     "data": {
      "text/plain": [
       "'pavansunder'"
      ]
     },
     "execution_count": 21,
     "metadata": {},
     "output_type": "execute_result"
    }
   ],
   "source": [
    "a1='pavan'\n",
    "a2='sunder'\n",
    "a1+a2"
   ]
  },
  {
   "cell_type": "markdown",
   "metadata": {},
   "source": [
    "## String special characters (escape sequences)\n"
   ]
  },
  {
   "cell_type": "markdown",
   "metadata": {},
   "source": [
    "<html><img src=\"jupyter_images\\escape sequence.png\",width=500>"
   ]
  },
  {
   "cell_type": "code",
   "execution_count": 22,
   "metadata": {},
   "outputs": [
    {
     "name": "stdout",
     "output_type": "stream",
     "text": [
      "this is new line: \n",
      " spl char \n",
      "this is horizontal tab: \t spl char\n",
      "this is backslash: \\\n",
      "this is single quote: '\n",
      "this is double quote: \"\n"
     ]
    }
   ],
   "source": [
    "# Illustration\n",
    "print('this is new line: \\n spl char ')\n",
    "print('this is horizontal tab: \\t spl char')\n",
    "print('this is backslash: \\\\')\n",
    "print(\"this is single quote: \\'\")\n",
    "print('this is double quote: \\\"')"
   ]
  },
  {
   "cell_type": "markdown",
   "metadata": {},
   "source": [
    "## String - in, not in operator\n",
    "\n",
    "#### To check whether a character/substring is present in the main string\n",
    "\n",
    "#### Returns boolean values - true if present; false if absent"
   ]
  },
  {
   "cell_type": "code",
   "execution_count": 23,
   "metadata": {},
   "outputs": [
    {
     "name": "stdout",
     "output_type": "stream",
     "text": [
      "True\n",
      "True\n",
      "False\n",
      "False\n"
     ]
    }
   ],
   "source": [
    "a='pavan'\n",
    "print('p' in a)\n",
    "print('pav' in a)\n",
    "print('sun' in a)\n",
    "\n",
    "print('p' not in a)"
   ]
  },
  {
   "cell_type": "markdown",
   "metadata": {},
   "source": [
    "## Tuple\n",
    "\n",
    "#### A tuple is collection of python objects integers, floating point numbers, string literals etc enclosed within <span style=\"color:blue; font-size:16px; font-style:italic\"> 'Curve braces'</span>\n",
    "\n",
    "#### Keyword:tuple"
   ]
  },
  {
   "cell_type": "code",
   "execution_count": 24,
   "metadata": {},
   "outputs": [
    {
     "data": {
      "text/plain": [
       "(10, 10.2, (10+2j), 'pav', True)"
      ]
     },
     "execution_count": 24,
     "metadata": {},
     "output_type": "execute_result"
    }
   ],
   "source": [
    "mytup=(10,10.2,10+2j,'pav',True)\n",
    "mytup"
   ]
  },
  {
   "cell_type": "code",
   "execution_count": 25,
   "metadata": {},
   "outputs": [
    {
     "data": {
      "text/plain": [
       "tuple"
      ]
     },
     "execution_count": 25,
     "metadata": {},
     "output_type": "execute_result"
    }
   ],
   "source": [
    "type(mytup)"
   ]
  },
  {
   "cell_type": "markdown",
   "metadata": {},
   "source": [
    "## Tuple indexing\n",
    "\n",
    "#### Tuple elements can be accessed by indexing. \n",
    "\n",
    "#### Index starts from '0'"
   ]
  },
  {
   "cell_type": "code",
   "execution_count": 26,
   "metadata": {},
   "outputs": [
    {
     "name": "stdout",
     "output_type": "stream",
     "text": [
      "10\n",
      "10.2\n",
      "True\n"
     ]
    }
   ],
   "source": [
    "print(mytup[0])\n",
    "print(mytup[1])\n",
    "print(mytup[4])"
   ]
  },
  {
   "cell_type": "markdown",
   "metadata": {},
   "source": [
    "## Tuple operations\n",
    "\n",
    "#### All operations (like slicing, repetition, concatenation and clecking whether an element is present) can be performed on tuples"
   ]
  },
  {
   "cell_type": "code",
   "execution_count": 27,
   "metadata": {},
   "outputs": [
    {
     "name": "stdout",
     "output_type": "stream",
     "text": [
      "((10+2j), 'pav')\n",
      "(10, 10.2, (10+2j), 'pav')\n",
      "((10+2j), 'pav', True)\n",
      "(10, 10.2, (10+2j), 'pav', True)\n"
     ]
    }
   ],
   "source": [
    "#Slicing\n",
    "print(mytup[2:4])\n",
    "print(mytup[:4])\n",
    "print(mytup[2:])\n",
    "print(mytup[:])"
   ]
  },
  {
   "cell_type": "code",
   "execution_count": 28,
   "metadata": {},
   "outputs": [
    {
     "data": {
      "text/plain": [
       "(10, 10.2, (10+2j), 'pav', True, 10, 10.2, (10+2j), 'pav', True)"
      ]
     },
     "execution_count": 28,
     "metadata": {},
     "output_type": "execute_result"
    }
   ],
   "source": [
    "mytup*2 #repetition"
   ]
  },
  {
   "cell_type": "code",
   "execution_count": 29,
   "metadata": {},
   "outputs": [
    {
     "data": {
      "text/plain": [
       "[10, 20, 20.5, 'pav']"
      ]
     },
     "execution_count": 29,
     "metadata": {},
     "output_type": "execute_result"
    }
   ],
   "source": [
    "#concatenation\n",
    "mytup1=[10,20]\n",
    "mytup2=[20.5,'pav']\n",
    "mytup1+mytup2 "
   ]
  },
  {
   "cell_type": "code",
   "execution_count": 30,
   "metadata": {},
   "outputs": [
    {
     "name": "stdout",
     "output_type": "stream",
     "text": [
      "True\n",
      "False\n"
     ]
    }
   ],
   "source": [
    "#checking whether an element is present\n",
    "print(10 in mytup)\n",
    "print(55 in mytup)"
   ]
  },
  {
   "cell_type": "markdown",
   "metadata": {},
   "source": [
    "## Tuple - Immutability illustration\n",
    "\n",
    "#### values can neither be changed or added in tuple as they are immutable"
   ]
  },
  {
   "cell_type": "code",
   "execution_count": 31,
   "metadata": {
    "scrolled": true
   },
   "outputs": [
    {
     "ename": "TypeError",
     "evalue": "'tuple' object does not support item assignment",
     "output_type": "error",
     "traceback": [
      "\u001b[1;31m---------------------------------------------------------------------------\u001b[0m",
      "\u001b[1;31mTypeError\u001b[0m                                 Traceback (most recent call last)",
      "\u001b[1;32m<ipython-input-31-bac559642bbe>\u001b[0m in \u001b[0;36m<module>\u001b[1;34m()\u001b[0m\n\u001b[1;32m----> 1\u001b[1;33m \u001b[0mmytup\u001b[0m\u001b[1;33m[\u001b[0m\u001b[1;36m1\u001b[0m\u001b[1;33m]\u001b[0m\u001b[1;33m=\u001b[0m\u001b[1;34m'hello'\u001b[0m \u001b[1;31m# we get error because tuples are immutable ie the values cannot be changed\u001b[0m\u001b[1;33m\u001b[0m\u001b[0m\n\u001b[0m",
      "\u001b[1;31mTypeError\u001b[0m: 'tuple' object does not support item assignment"
     ]
    }
   ],
   "source": [
    "mytup[1]='hello' # we get error because tuples are immutable ie the values cannot be changed"
   ]
  },
  {
   "cell_type": "code",
   "execution_count": 32,
   "metadata": {
    "scrolled": true
   },
   "outputs": [
    {
     "ename": "AttributeError",
     "evalue": "'tuple' object has no attribute 'append'",
     "output_type": "error",
     "traceback": [
      "\u001b[1;31m---------------------------------------------------------------------------\u001b[0m",
      "\u001b[1;31mAttributeError\u001b[0m                            Traceback (most recent call last)",
      "\u001b[1;32m<ipython-input-32-60ccbfe76c0f>\u001b[0m in \u001b[0;36m<module>\u001b[1;34m()\u001b[0m\n\u001b[1;32m----> 1\u001b[1;33m \u001b[0mmytup\u001b[0m\u001b[1;33m.\u001b[0m\u001b[0mappend\u001b[0m\u001b[1;33m(\u001b[0m\u001b[1;34m'sun'\u001b[0m\u001b[1;33m)\u001b[0m\u001b[1;31m# we get error because tuples are immutable ie the values cannot be added\u001b[0m\u001b[1;33m\u001b[0m\u001b[0m\n\u001b[0m",
      "\u001b[1;31mAttributeError\u001b[0m: 'tuple' object has no attribute 'append'"
     ]
    }
   ],
   "source": [
    "mytup.append('sun')# we get error because tuples are immutable ie the values cannot be added"
   ]
  },
  {
   "cell_type": "markdown",
   "metadata": {},
   "source": [
    "## List\n",
    "\n",
    "#### A List is collection of python objects integers, floating point numbers, string literals etc enclosed within <span style=\"color:blue; font-size:16px; font-style:italic\"> 'Square braces'</span>\n",
    "\n",
    "#### Keyword:list"
   ]
  },
  {
   "cell_type": "code",
   "execution_count": 33,
   "metadata": {},
   "outputs": [
    {
     "data": {
      "text/plain": [
       "[10, 10.2, (10+2j), 'pav', True]"
      ]
     },
     "execution_count": 33,
     "metadata": {},
     "output_type": "execute_result"
    }
   ],
   "source": [
    "mylst=[10,10.2,10+2j,'pav',True]\n",
    "mylst"
   ]
  },
  {
   "cell_type": "code",
   "execution_count": 34,
   "metadata": {},
   "outputs": [
    {
     "data": {
      "text/plain": [
       "list"
      ]
     },
     "execution_count": 34,
     "metadata": {},
     "output_type": "execute_result"
    }
   ],
   "source": [
    "type(mylst)"
   ]
  },
  {
   "cell_type": "markdown",
   "metadata": {},
   "source": [
    "## List indexing\n",
    "\n",
    "#### List elements can be accessed by indexing. \n",
    "\n",
    "#### Index starts from '0'"
   ]
  },
  {
   "cell_type": "code",
   "execution_count": 35,
   "metadata": {},
   "outputs": [
    {
     "name": "stdout",
     "output_type": "stream",
     "text": [
      "10\n",
      "10.2\n",
      "True\n"
     ]
    }
   ],
   "source": [
    "print(mylst[0])\n",
    "print(mylst[1])\n",
    "print(mylst[4])"
   ]
  },
  {
   "cell_type": "markdown",
   "metadata": {},
   "source": [
    "## List operations\n",
    "\n",
    "#### All operations (like slicing, repetition, concatenation and clecking whether an element is present) can be performed on list"
   ]
  },
  {
   "cell_type": "code",
   "execution_count": 36,
   "metadata": {},
   "outputs": [
    {
     "name": "stdout",
     "output_type": "stream",
     "text": [
      "[(10+2j), 'pav']\n",
      "[10, 10.2, (10+2j), 'pav']\n",
      "[(10+2j), 'pav', True]\n",
      "[10, 10.2, (10+2j), 'pav', True]\n"
     ]
    }
   ],
   "source": [
    "#Slicing\n",
    "print(mylst[2:4])\n",
    "print(mylst[:4])\n",
    "print(mylst[2:])\n",
    "print(mylst[:])"
   ]
  },
  {
   "cell_type": "code",
   "execution_count": 37,
   "metadata": {},
   "outputs": [
    {
     "data": {
      "text/plain": [
       "[10, 10.2, (10+2j), 'pav', True, 10, 10.2, (10+2j), 'pav', True]"
      ]
     },
     "execution_count": 37,
     "metadata": {},
     "output_type": "execute_result"
    }
   ],
   "source": [
    "mylst*2 #repetition"
   ]
  },
  {
   "cell_type": "code",
   "execution_count": 38,
   "metadata": {},
   "outputs": [
    {
     "data": {
      "text/plain": [
       "[10, 20, 20.5, 'pav']"
      ]
     },
     "execution_count": 38,
     "metadata": {},
     "output_type": "execute_result"
    }
   ],
   "source": [
    "#concatenation\n",
    "mylst1=[10,20]\n",
    "mylst2=[20.5,'pav']\n",
    "mylst1+mylst2 "
   ]
  },
  {
   "cell_type": "code",
   "execution_count": 39,
   "metadata": {},
   "outputs": [
    {
     "name": "stdout",
     "output_type": "stream",
     "text": [
      "True\n",
      "False\n"
     ]
    }
   ],
   "source": [
    "#checking whether an element is present\n",
    "print(10 in mylst)\n",
    "print(55 in mylst)"
   ]
  },
  {
   "cell_type": "markdown",
   "metadata": {},
   "source": [
    "## List - mutability illustration\n",
    "\n",
    "#### values can be changed or added in list as they are mutable"
   ]
  },
  {
   "cell_type": "code",
   "execution_count": 40,
   "metadata": {
    "scrolled": true
   },
   "outputs": [
    {
     "name": "stdout",
     "output_type": "stream",
     "text": [
      "[10, 10.2, (10+2j), 'pav', True]\n"
     ]
    }
   ],
   "source": [
    "print(mylst)\n",
    "id1=id(mylst)"
   ]
  },
  {
   "cell_type": "code",
   "execution_count": 41,
   "metadata": {},
   "outputs": [
    {
     "name": "stdout",
     "output_type": "stream",
     "text": [
      "[10, 'hello', (10+2j), 'pav', True]\n"
     ]
    }
   ],
   "source": [
    "mylst[1]='hello' # we dont get error because lists are mutable ie the values can be changed\n",
    "print(mylst)\n",
    "id2=id(mylst)"
   ]
  },
  {
   "cell_type": "code",
   "execution_count": 42,
   "metadata": {
    "scrolled": true
   },
   "outputs": [
    {
     "name": "stdout",
     "output_type": "stream",
     "text": [
      "[10, 'hello', (10+2j), 'pav', True]\n",
      "[10, 'hello', (10+2j), 'pav', True, 'sun']\n"
     ]
    }
   ],
   "source": [
    "print(mylst)\n",
    "mylst.append('sun')# we dont get error because lists are immutable ie the values can be added\n",
    "print(mylst)\n",
    "id3=id(mylst)"
   ]
  },
  {
   "cell_type": "code",
   "execution_count": 43,
   "metadata": {},
   "outputs": [
    {
     "name": "stdout",
     "output_type": "stream",
     "text": [
      "id1:2253778299272, id2:2253778299272, id3:2253778299272\n"
     ]
    }
   ],
   "source": [
    "print('id1:%d, id2:%d, id3:%d'%(id1,id2,id3)) #observe the o/p; the ids are same which indicates that it is the same object and only the values are altered which confirms lists are mutable\n"
   ]
  },
  {
   "cell_type": "markdown",
   "metadata": {},
   "source": [
    "## Dictionaries\n",
    "\n",
    "#### Keyword: Dict\n",
    "\n",
    "#### Dictionaries are also mutable ie values can be modified\n",
    "<h4>They are also multivalued datatypes represented by <span style=\"color:blue; font-size:16px; font-style:italic\">'Key-Value pair'</span> and enclosed within <span style=\"color:blue; font-size:16px; font-style:italic\">'Curly braces'</span></h4>\n",
    "\n",
    "**```Syntax: mydict{key1:value1, key2:value2, .............., keyN:valueN}```**"
   ]
  },
  {
   "cell_type": "code",
   "execution_count": 44,
   "metadata": {},
   "outputs": [
    {
     "data": {
      "text/plain": [
       "{'a': 'p', 1: 10.5, 'b': 10.2, 2: 'pav'}"
      ]
     },
     "execution_count": 44,
     "metadata": {},
     "output_type": "execute_result"
    }
   ],
   "source": [
    "mydict={'a':'p',1:10.5,'b':10.2,2:'pav'}\n",
    "mydict "
   ]
  },
  {
   "cell_type": "code",
   "execution_count": 45,
   "metadata": {},
   "outputs": [
    {
     "data": {
      "text/plain": [
       "dict"
      ]
     },
     "execution_count": 45,
     "metadata": {},
     "output_type": "execute_result"
    }
   ],
   "source": [
    "type(mydict)"
   ]
  },
  {
   "cell_type": "markdown",
   "metadata": {},
   "source": [
    "#### Dictionary values can be accessed by refering to corrresponding key. In other words keys serve as index"
   ]
  },
  {
   "cell_type": "code",
   "execution_count": 46,
   "metadata": {},
   "outputs": [
    {
     "name": "stdout",
     "output_type": "stream",
     "text": [
      "p\n",
      "10.5\n",
      "10.2\n",
      "pav\n"
     ]
    }
   ],
   "source": [
    "print(mydict['a'])\n",
    "print(mydict[1])\n",
    "print(mydict['b'])\n",
    "print(mydict[2])"
   ]
  },
  {
   "cell_type": "markdown",
   "metadata": {},
   "source": [
    "#### we can insert lists and tuples as values within the dictionary as well"
   ]
  },
  {
   "cell_type": "code",
   "execution_count": 47,
   "metadata": {},
   "outputs": [
    {
     "name": "stdout",
     "output_type": "stream",
     "text": [
      "[1, 2, 3]\n",
      "(4, 5, 6)\n"
     ]
    }
   ],
   "source": [
    "mydict={'a':[1,2,3],'b':(4,5,6)}\n",
    "print(mydict['a'])\n",
    "print(mydict['b'])"
   ]
  },
  {
   "cell_type": "markdown",
   "metadata": {},
   "source": [
    "#### To access list and tuple elements defined within the dictionary, we have to provide corresponding key and index as reference"
   ]
  },
  {
   "cell_type": "code",
   "execution_count": 48,
   "metadata": {},
   "outputs": [
    {
     "name": "stdout",
     "output_type": "stream",
     "text": [
      "1\n",
      "2\n",
      "3\n",
      "4\n",
      "5\n",
      "6\n"
     ]
    }
   ],
   "source": [
    "print(mydict['a'][0])\n",
    "print(mydict['a'][1])\n",
    "print(mydict['a'][2])\n",
    "print(mydict['b'][0])\n",
    "print(mydict['b'][1])\n",
    "print(mydict['b'][2])"
   ]
  },
  {
   "cell_type": "markdown",
   "metadata": {},
   "source": [
    "### The dictionary values are accessed using the corresponding keys as index. \n",
    "\n",
    "#### The dictioanry values can be any mutable or immutable objects like strings,integers,floating points,booleans,complexes,lists or tuples. \n",
    "\n",
    "#### However, the keys have cetrain unique properties as described in notes below:\n",
    "\n",
    "<p style=\"color:Blue; font-family:Helvetica; font-size:14px; font-weight:bold; font-style:italic\">\n",
    "Note 1:Keys can only be immutable types ( like as strings, integers, floating points, complex, boolean or tuples).however for simplicity we can use strings and integers as keys, but not mutable type like list. If we attempt to use mutable type like list as key, we get error\n",
    "</p>\n"
   ]
  },
  {
   "cell_type": "code",
   "execution_count": 49,
   "metadata": {},
   "outputs": [
    {
     "ename": "TypeError",
     "evalue": "unhashable type: 'list'",
     "output_type": "error",
     "traceback": [
      "\u001b[1;31m---------------------------------------------------------------------------\u001b[0m",
      "\u001b[1;31mTypeError\u001b[0m                                 Traceback (most recent call last)",
      "\u001b[1;32m<ipython-input-49-24075cb31138>\u001b[0m in \u001b[0;36m<module>\u001b[1;34m()\u001b[0m\n\u001b[1;32m----> 1\u001b[1;33m \u001b[0mmydict\u001b[0m\u001b[1;33m=\u001b[0m\u001b[1;33m{\u001b[0m\u001b[1;33m[\u001b[0m\u001b[1;36m5\u001b[0m\u001b[1;33m,\u001b[0m\u001b[1;36m6\u001b[0m\u001b[1;33m]\u001b[0m\u001b[1;33m:\u001b[0m\u001b[1;36m14\u001b[0m\u001b[1;33m}\u001b[0m\u001b[1;33m\u001b[0m\u001b[0m\n\u001b[0m",
      "\u001b[1;31mTypeError\u001b[0m: unhashable type: 'list'"
     ]
    }
   ],
   "source": [
    "mydict={[5,6]:14}"
   ]
  },
  {
   "cell_type": "markdown",
   "metadata": {},
   "source": [
    "<p style=\"color:Blue; font-family:Helvetica; font-size:14px; font-weight:bold; font-style:italic\">\n",
    "Note 2:Keys are unique which means every value is associated with a unique key. However, If we use same key for different values, the key holds the last assigned value\n",
    "</p>"
   ]
  },
  {
   "cell_type": "code",
   "execution_count": 50,
   "metadata": {},
   "outputs": [
    {
     "data": {
      "text/plain": [
       "{'a': 7, 'b': 8}"
      ]
     },
     "execution_count": 50,
     "metadata": {},
     "output_type": "execute_result"
    }
   ],
   "source": [
    "mydict={'a':5,'a':7,'b':8} #both values 5 and 7 are assigned to same key'a'\n",
    "mydict # observe the o/p, when printed, key 'a' holds only 7, value 5 is discarded."
   ]
  },
  {
   "cell_type": "markdown",
   "metadata": {},
   "source": [
    "#### Each data type has built in methods that can be redily used to achieve certain results. Refer [link](http://localhost:8888/notebooks/Builtin%20methods.ipynb)"
   ]
  },
  {
   "cell_type": "markdown",
   "metadata": {},
   "source": [
    "## Type casting\n",
    "\n",
    "#### converting from one datatype to another.\n",
    "#### However numeric types cannot be converted to iterable"
   ]
  },
  {
   "cell_type": "code",
   "execution_count": 51,
   "metadata": {},
   "outputs": [
    {
     "data": {
      "text/plain": [
       "10.0"
      ]
     },
     "execution_count": 51,
     "metadata": {},
     "output_type": "execute_result"
    }
   ],
   "source": [
    "a=10\n",
    "float(a)"
   ]
  },
  {
   "cell_type": "code",
   "execution_count": 52,
   "metadata": {},
   "outputs": [
    {
     "data": {
      "text/plain": [
       "['p', 'a', 'v', 'a', 'n']"
      ]
     },
     "execution_count": 52,
     "metadata": {},
     "output_type": "execute_result"
    }
   ],
   "source": [
    "a=\"pavan\"\n",
    "list(a)"
   ]
  },
  {
   "cell_type": "code",
   "execution_count": 53,
   "metadata": {},
   "outputs": [
    {
     "data": {
      "text/plain": [
       "(1, 2, 3)"
      ]
     },
     "execution_count": 53,
     "metadata": {},
     "output_type": "execute_result"
    }
   ],
   "source": [
    "a=[1,2,3]\n",
    "tuple(a)"
   ]
  }
 ],
 "metadata": {
  "kernelspec": {
   "display_name": "Python 3",
   "language": "python",
   "name": "python3"
  },
  "language_info": {
   "codemirror_mode": {
    "name": "ipython",
    "version": 3
   },
   "file_extension": ".py",
   "mimetype": "text/x-python",
   "name": "python",
   "nbconvert_exporter": "python",
   "pygments_lexer": "ipython3",
   "version": "3.7.0"
  }
 },
 "nbformat": 4,
 "nbformat_minor": 2
}
