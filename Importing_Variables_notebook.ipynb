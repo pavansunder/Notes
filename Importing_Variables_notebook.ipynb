{
 "cells": [
  {
   "cell_type": "markdown",
   "metadata": {},
   "source": [
    "# Importing Special_variable notebook as module"
   ]
  },
  {
   "cell_type": "code",
   "execution_count": 1,
   "metadata": {},
   "outputs": [
    {
     "name": "stdout",
     "output_type": "stream",
     "text": [
      "importing Jupyter notebook from Special_variable.ipynb\n",
      "the value of __name__ is: Special_variable\n"
     ]
    }
   ],
   "source": [
    "import import_ipynb \n",
    "import Special_variable\n",
    "from Special_variable import prntName as pn # importing function present in Special_variable that prints the value of __name__"
   ]
  },
  {
   "cell_type": "code",
   "execution_count": 2,
   "metadata": {},
   "outputs": [
    {
     "name": "stdout",
     "output_type": "stream",
     "text": [
      "the value of __name__ is: Special_variable\n"
     ]
    }
   ],
   "source": [
    "pn()"
   ]
  },
  {
   "cell_type": "markdown",
   "metadata": {},
   "source": [
    "#### Observe carefully: Here the ```__name__``` takes the value of the module from where it is imported ie Special_variable, whereas in Special_variable, the value of ```__name__``` was equal to ```__main__```"
   ]
  }
 ],
 "metadata": {
  "kernelspec": {
   "display_name": "Python 3",
   "language": "python",
   "name": "python3"
  },
  "language_info": {
   "codemirror_mode": {
    "name": "ipython",
    "version": 3
   },
   "file_extension": ".py",
   "mimetype": "text/x-python",
   "name": "python",
   "nbconvert_exporter": "python",
   "pygments_lexer": "ipython3",
   "version": "3.7.0"
  }
 },
 "nbformat": 4,
 "nbformat_minor": 2
}
