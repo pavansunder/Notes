{
 "cells": [
  {
   "cell_type": "markdown",
   "metadata": {},
   "source": [
    "# Special variable:```__name__```"
   ]
  },
  {
   "cell_type": "markdown",
   "metadata": {},
   "source": [
    "#### The __name__ variable (two underscores before and after) is a special Python variable. It gets its value depending on how we execute the containing script.\n",
    "\n",
    "#### Sometimes you write a script with functions that might be useful in other scripts as well. In Python, you can import that script as a module in another script.\n",
    "\n",
    "#### With this special variable, you can decide whether you want to run the script. Or that you want to import the functions defined in the script."
   ]
  },
  {
   "cell_type": "markdown",
   "metadata": {},
   "source": [
    "### The values it can take:\n",
    "\n",
    "#### 1. When current script is run, the __name__ variable equals __main__.\n",
    "#### 2. When current script is imported in another script as module, it will contain the name of the script."
   ]
  },
  {
   "cell_type": "code",
   "execution_count": 2,
   "metadata": {},
   "outputs": [
    {
     "name": "stdout",
     "output_type": "stream",
     "text": [
      "the value of __name__ is: __main__\n"
     ]
    }
   ],
   "source": [
    "# let us define a function that prints the value of __name__\n",
    "\n",
    "def prntName():\n",
    "    print('the value of __name__ is:',__name__)\n",
    "    \n",
    "# calling the function\n",
    "prntName()\n",
    "\n",
    "# Observe the o/p, By default __name__ takes the value __main__ in the current notebook without we assigning anything"
   ]
  },
  {
   "cell_type": "markdown",
   "metadata": {},
   "source": [
    "#### Let us import this notebook in another notebook-[click the link](http://localhost:8888/notebooks/Importing_Variables_notebook.ipynb) as module"
   ]
  }
 ],
 "metadata": {
  "kernelspec": {
   "display_name": "Python 3",
   "language": "python",
   "name": "python3"
  },
  "language_info": {
   "codemirror_mode": {
    "name": "ipython",
    "version": 3
   },
   "file_extension": ".py",
   "mimetype": "text/x-python",
   "name": "python",
   "nbconvert_exporter": "python",
   "pygments_lexer": "ipython3",
   "version": "3.7.0"
  }
 },
 "nbformat": 4,
 "nbformat_minor": 2
}
