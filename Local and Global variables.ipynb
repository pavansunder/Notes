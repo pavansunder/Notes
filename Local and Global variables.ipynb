{
 "cells": [
  {
   "cell_type": "markdown",
   "metadata": {},
   "source": [
    "# Local and Global variables"
   ]
  },
  {
   "cell_type": "markdown",
   "metadata": {},
   "source": [
    "### local variables are variables defined within the function and their scope is restricted within the function which means they cannot be accessed outside the function."
   ]
  },
  {
   "cell_type": "code",
   "execution_count": 1,
   "metadata": {},
   "outputs": [
    {
     "name": "stdout",
     "output_type": "stream",
     "text": [
      "inside:  10\n"
     ]
    }
   ],
   "source": [
    "# let is define a function\n",
    "\n",
    "def someFunc():\n",
    "    val=10 #local variable because defined within the function\n",
    "    print('inside: ',val) # we are printing val within the function\n",
    "    \n",
    "# calling the function\n",
    "someFunc() #prints value of val which is a local variable defined within the function"
   ]
  },
  {
   "cell_type": "code",
   "execution_count": 2,
   "metadata": {},
   "outputs": [
    {
     "ename": "NameError",
     "evalue": "name 'val' is not defined",
     "output_type": "error",
     "traceback": [
      "\u001b[1;31m---------------------------------------------------------------------------\u001b[0m",
      "\u001b[1;31mNameError\u001b[0m                                 Traceback (most recent call last)",
      "\u001b[1;32m<ipython-input-2-8e8154182fb9>\u001b[0m in \u001b[0;36m<module>\u001b[1;34m()\u001b[0m\n\u001b[0;32m      6\u001b[0m \u001b[1;31m# calling the function\u001b[0m\u001b[1;33m\u001b[0m\u001b[1;33m\u001b[0m\u001b[0m\n\u001b[0;32m      7\u001b[0m \u001b[0msomeFunc\u001b[0m\u001b[1;33m(\u001b[0m\u001b[1;33m)\u001b[0m\u001b[1;33m\u001b[0m\u001b[0m\n\u001b[1;32m----> 8\u001b[1;33m \u001b[0mprint\u001b[0m\u001b[1;33m(\u001b[0m\u001b[1;34m'outside '\u001b[0m\u001b[1;33m,\u001b[0m\u001b[0mval\u001b[0m\u001b[1;33m)\u001b[0m \u001b[1;31m#printing outside the function\u001b[0m\u001b[1;33m\u001b[0m\u001b[0m\n\u001b[0m\u001b[0;32m      9\u001b[0m \u001b[1;31m# we get an error because the variable val is a local variable and cannot be accessed outside the function\u001b[0m\u001b[1;33m\u001b[0m\u001b[1;33m\u001b[0m\u001b[0m\n",
      "\u001b[1;31mNameError\u001b[0m: name 'val' is not defined"
     ]
    }
   ],
   "source": [
    "# let us try printing val outside the function\n",
    "# first define the function\n",
    "def someFunc():\n",
    "    val=10 #local variable because defined within the function\n",
    "\n",
    "# calling the function\n",
    "someFunc()\n",
    "print('outside ',val) #printing outside the function \n",
    "# we get an error because the variable val is a local variable and cannot be accessed outside the function"
   ]
  },
  {
   "cell_type": "markdown",
   "metadata": {},
   "source": [
    "### Global variables are variables defined outside the function and their scope is not limited to the function which means they can be accessed anywhere in the code, even in the function."
   ]
  },
  {
   "cell_type": "code",
   "execution_count": 3,
   "metadata": {},
   "outputs": [
    {
     "name": "stdout",
     "output_type": "stream",
     "text": [
      "global variable accessed outside 10\n",
      "global variable accessed inside 10\n"
     ]
    }
   ],
   "source": [
    "val=10\n",
    "print('global variable accessed outside',val)\n",
    "\n",
    "def someFunc():\n",
    "    print('global variable accessed inside',val) #prints val because global variable and can be accessed inside the function aswell \n",
    "    \n",
    "someFunc()"
   ]
  },
  {
   "cell_type": "markdown",
   "metadata": {},
   "source": [
    " #### Global variables can be accessed within the function, but we cannot directly change the value of a global variable within the function.\n",
    " #### When we try to change the value of a global variable within the function, we are actually creating a new local variable with a new value and the global variable remains as it is. \n",
    " #### Since the new variable is again a local variable, its scope is again restricted to the function."
   ]
  },
  {
   "cell_type": "code",
   "execution_count": 4,
   "metadata": {},
   "outputs": [
    {
     "name": "stdout",
     "output_type": "stream",
     "text": [
      "outside: 10, id: 140728026460192\n",
      "inside: 14, id: 140728026460320\n"
     ]
    }
   ],
   "source": [
    "val=10\n",
    "print('outside: %d, id: %d'%(val,id(val)))\n",
    "\n",
    "def someFunc():\n",
    "    val=14 # same variable name, but here it becomes a new local variable with new id\n",
    "    print('inside: %d, id: %d'%(val,id(val)))\n",
    "    \n",
    "someFunc()\n",
    "#observe in o/p, note the defference in id's of val,which confirms variable val defined inside the function is not the same global variable val defined outside the function  "
   ]
  },
  {
   "cell_type": "markdown",
   "metadata": {},
   "source": [
    " #### We can however change the value of a global variable inside the function only when we explicitly mention it is global by using a <span style=\"color:blue; font-size:16px; font-style:italic\">built-in keyword called global</span>"
   ]
  },
  {
   "cell_type": "code",
   "execution_count": 5,
   "metadata": {},
   "outputs": [
    {
     "name": "stdout",
     "output_type": "stream",
     "text": [
      "outside: 10\n",
      "inside: 14\n",
      "reprinted outside: 14\n"
     ]
    }
   ],
   "source": [
    "val=10\n",
    "print('outside:',val)\n",
    "\n",
    "def someFunc():\n",
    "    global val #we are explicitly conveying that we are accessing global variable\n",
    "    val=14 # here no new variable is created, we are accessing global variable itself as we have explicitly declared\n",
    "    print('inside:',val)\n",
    "    \n",
    "someFunc()\n",
    "print('reprinted outside:',val)\n",
    "#observe in o/p, the original value is changed from 10 to 14 when reprinted outside which confirms that the changes made are to the global variable"
   ]
  },
  {
   "cell_type": "markdown",
   "metadata": {},
   "source": [
    "#### We just saw that when we explicitly declare the variable as global, we are not creating a new local variable, instead we are changing the original global variable itself. \n",
    "#### what if we want to create and retain a new local variable and also change the value of global variable within the function?\n",
    "#### This can be achieved by another <span style=\"color:blue; font-size:16px; font-style:italic\">built-in function called globals</span> illustrated in example below\n",
    "#### globals returns the dictionary of all the global variables in the program. However, inorder to select the specific global variable we have to follow the following syntax:\n",
    "**```globals()[global_variable_name]```**"
   ]
  },
  {
   "cell_type": "code",
   "execution_count": 6,
   "metadata": {},
   "outputs": [
    {
     "name": "stdout",
     "output_type": "stream",
     "text": [
      "outside: 10\n",
      "inside: 13\n",
      "reprinted outside: 15\n"
     ]
    }
   ],
   "source": [
    "val=10\n",
    "print('outside:',val)\n",
    "\n",
    "def someFunc():\n",
    "    val=13 #this is a local variable created with same name \n",
    "    globals()['val']=15 # here we are acccessing the global variable and changing it. The local variable also remains as it is \n",
    "    print('inside:',val) # prints the local variable\n",
    "    \n",
    "someFunc() \n",
    "print('reprinted outside:',val)\n",
    "# observe in output,local variable val is printed whose value is 13\n",
    "# also observe in o/p when reprinted, the value of global variable is changed from 10 to 15. \n",
    "# this confirms that we are retaining the local variable and also changing the global variable within the function"
   ]
  },
  {
   "cell_type": "markdown",
   "metadata": {},
   "source": [
    " #### we can also change the global variable within the function without using global or globals, instead  by using a <span style=\"color:blue; font-size:16px; font-style:italic\">built-in keyword called return</span>\n",
    " #### Here also we allow the new local variable to be created when we change the value within the function, we then return the value to the function and reassign it to the global variable outside the function."
   ]
  },
  {
   "cell_type": "code",
   "execution_count": 7,
   "metadata": {},
   "outputs": [
    {
     "name": "stdout",
     "output_type": "stream",
     "text": [
      "outside: 10\n",
      "inside: 14\n",
      "reprinted outside: 14\n"
     ]
    }
   ],
   "source": [
    "val=10\n",
    "print('outside:',val)\n",
    "\n",
    "def someFunc():\n",
    "    val=14 #new local variable is created with same variable name\n",
    "    print('inside:',val)\n",
    "    return val #we are returning the value of local variable\n",
    "    \n",
    "val=someFunc() #we are reassigning the returned value to the global variable.\n",
    "print('reprinted outside:',val)\n",
    "#observe in o/p, the original value is changed from 10 to 14 when reprinted outside which confirms that the changes made are to the global variable"
   ]
  }
 ],
 "metadata": {
  "kernelspec": {
   "display_name": "Python 3",
   "language": "python",
   "name": "python3"
  },
  "language_info": {
   "codemirror_mode": {
    "name": "ipython",
    "version": 3
   },
   "file_extension": ".py",
   "mimetype": "text/x-python",
   "name": "python",
   "nbconvert_exporter": "python",
   "pygments_lexer": "ipython3",
   "version": "3.7.0"
  }
 },
 "nbformat": 4,
 "nbformat_minor": 2
}
