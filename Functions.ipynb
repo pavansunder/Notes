{
 "cells": [
  {
   "cell_type": "markdown",
   "metadata": {},
   "source": [
    "# Functions"
   ]
  },
  {
   "cell_type": "markdown",
   "metadata": {},
   "source": [
    "#### A Fuction is a named section of a program block that performs a specific task which can be called multiple times to repeat the task without actually writing the code block again and again.\n",
    "\n",
    "#### Python library has many predefined built-in functions(methods) that can be used to perform certain task. Some of the important builtin functions are discussed in seperate file [Link](http://localhost:8888/notebooks/Builtin%20methods.ipynb)\n",
    "\n",
    "#### However we can also define our own functions by using the keyword def as shown below"
   ]
  },
  {
   "cell_type": "markdown",
   "metadata": {},
   "source": [
    "## Syntax\n",
    "\n",
    "#### Initially we have to define the function using Keyword def.\n",
    "\n",
    "<p style=\"color:Blue; font-family:Helvetica; font-size:14px; font-weight:bold; font-style:italic\">\n",
    "Note:It is not recommended to use builtin function names to define our own functions.\n",
    "</p>\n",
    "\n",
    "**```\n",
    "def functionName(argument1,argument2,...):\n",
    "    Statement(s)```**\n",
    "\n",
    "#### In order to execute the function, we have to call the function by typing the function name. The function will not be executed unless called.\n",
    "\n",
    "**```functionName()```**\n",
    "\n",
    "<p style=\"color:Blue; font-family:Helvetica; font-size:14px; font-weight:bold; font-style:italic\">\n",
    "Note:It is not mandatory to pass arguments within the parantheses in the function definition. A fuction can be defined without passing arguments also.\n",
    "</p>"
   ]
  },
  {
   "cell_type": "markdown",
   "metadata": {},
   "source": [
    "## Example 1: To print hello"
   ]
  },
  {
   "cell_type": "code",
   "execution_count": 1,
   "metadata": {},
   "outputs": [
    {
     "name": "stdout",
     "output_type": "stream",
     "text": [
      "Hello!\n"
     ]
    }
   ],
   "source": [
    "# This is an example of function definiion without arguments\n",
    "\n",
    "def printHello():\n",
    "    print('Hello!')\n",
    "    \n",
    "# calling the function:\n",
    "\n",
    "printHello()"
   ]
  },
  {
   "cell_type": "markdown",
   "metadata": {},
   "source": [
    "## Example 2: To find sum of two numbers"
   ]
  },
  {
   "cell_type": "code",
   "execution_count": 2,
   "metadata": {},
   "outputs": [
    {
     "name": "stdout",
     "output_type": "stream",
     "text": [
      "The sum of two numbers is:  10\n"
     ]
    }
   ],
   "source": [
    "# This is an example of function definiion with arguments\n",
    "\n",
    "def addition(num1,num2):\n",
    "    print('The sum of two numbers is: ',num1+num2)\n",
    "    \n",
    "# calling the function:\n",
    "\n",
    "addition(6,4)"
   ]
  },
  {
   "cell_type": "markdown",
   "metadata": {},
   "source": [
    "<p style=\"color:Blue; font-family:Helvetica; font-size:14px; font-weight:bold; font-style:italic\">\n",
    "Note1: The assignment of values to the variables happen in the same order as mentioned in the function definition.\n",
    "In the previous example; the values 6 and 4 gets assigned to num1 and num2 respectively.\n",
    "Since the first argument in function definition is variable num1; the first argument 6 in function call gets assigned to num1<br/>\n",
    "Note2: we have to pass exactly same number of arguments as defined in the function definition orelse we get error as shown below\n",
    "</p>"
   ]
  },
  {
   "cell_type": "code",
   "execution_count": 3,
   "metadata": {},
   "outputs": [
    {
     "ename": "TypeError",
     "evalue": "addition() missing 1 required positional argument: 'num2'",
     "output_type": "error",
     "traceback": [
      "\u001b[1;31m---------------------------------------------------------------------------\u001b[0m",
      "\u001b[1;31mTypeError\u001b[0m                                 Traceback (most recent call last)",
      "\u001b[1;32m<ipython-input-3-d16420c77180>\u001b[0m in \u001b[0;36m<module>\u001b[1;34m()\u001b[0m\n\u001b[0;32m      3\u001b[0m \u001b[1;33m\u001b[0m\u001b[0m\n\u001b[0;32m      4\u001b[0m \u001b[1;31m# calling the function:\u001b[0m\u001b[1;33m\u001b[0m\u001b[1;33m\u001b[0m\u001b[0m\n\u001b[1;32m----> 5\u001b[1;33m \u001b[0maddition\u001b[0m\u001b[1;33m(\u001b[0m\u001b[1;36m6\u001b[0m\u001b[1;33m)\u001b[0m\u001b[1;33m\u001b[0m\u001b[0m\n\u001b[0m\u001b[0;32m      6\u001b[0m \u001b[1;33m\u001b[0m\u001b[0m\n\u001b[0;32m      7\u001b[0m \u001b[1;31m# We get error because function defn has 2 arguments, whereas function call has only 1 argument\u001b[0m\u001b[1;33m\u001b[0m\u001b[1;33m\u001b[0m\u001b[0m\n",
      "\u001b[1;31mTypeError\u001b[0m: addition() missing 1 required positional argument: 'num2'"
     ]
    }
   ],
   "source": [
    "def addition(num1,num2):\n",
    "    print('The sum of two numbers is: ',num1+num2)\n",
    "    \n",
    "# calling the function:\n",
    "addition(6)\n",
    "\n",
    "# We get error because function defn has 2 arguments, whereas function call has only 1 argument"
   ]
  },
  {
   "cell_type": "markdown",
   "metadata": {},
   "source": [
    "<p style=\"color:Blue; font-family:Helvetica; font-size:14px; font-weight:bold; font-style:italic\">\n",
    "Note: We can pass default values in function definition as shown below  \n",
    "</p>"
   ]
  },
  {
   "cell_type": "markdown",
   "metadata": {},
   "source": [
    "## Example 3: To find sum of two numbers (using default values in function definition)"
   ]
  },
  {
   "cell_type": "code",
   "execution_count": 4,
   "metadata": {},
   "outputs": [
    {
     "name": "stdout",
     "output_type": "stream",
     "text": [
      "The sum of two numbers is:  10\n",
      "The sum of two numbers is:  14\n"
     ]
    }
   ],
   "source": [
    "# This is an example of function definiion with default values\n",
    "\n",
    "def addition(num1,num2 = 4):# 4 is passed as a default value \n",
    "    print('The sum of two numbers is: ',num1+num2)\n",
    "    \n",
    "# calling the function:\n",
    "\n",
    "addition(6) # we need to pass only 1 argument since the second argument is by default taken as per function definition\n",
    "\n",
    "# However if we pass second argument, the default value is not considered. \n",
    "#The operation is performed on arguments passed in function call but Remember, default value is not changed\n",
    "addition(6,8) \n"
   ]
  },
  {
   "cell_type": "code",
   "execution_count": 5,
   "metadata": {},
   "outputs": [
    {
     "name": "stdout",
     "output_type": "stream",
     "text": [
      "The sum of 3 numbers is:  20\n"
     ]
    }
   ],
   "source": [
    "# suppose we have 3 variables\n",
    "def addition(num1,num2 = 4,num3 = 3): # 2 default values are passed\n",
    "    print('The sum of 3 numbers is: ',num1+num2+num3)\n",
    "    \n",
    "addition(6,num3=10) # We have to specify to which variable new value to be assigned if we doesn't want default value to be considered"
   ]
  },
  {
   "cell_type": "markdown",
   "metadata": {},
   "source": [
    "## Return keyword\n",
    "\n",
    "#### We can store the result of the function in a variable. For doing this, we have to initially use the <span style=\"color:blue; font-size:16px; font-style:italic\"> keyword return</span>  in the function definition for returning the output value and assign the function call to a variable as shown below \n"
   ]
  },
  {
   "cell_type": "markdown",
   "metadata": {},
   "source": [
    "## Example 4: To return the sum of two numbers"
   ]
  },
  {
   "cell_type": "code",
   "execution_count": 6,
   "metadata": {},
   "outputs": [
    {
     "name": "stdout",
     "output_type": "stream",
     "text": [
      "6\n"
     ]
    }
   ],
   "source": [
    "def addition(num1,num2):\n",
    "    return num1+num2 # use return keyword to return the value\n",
    "\n",
    "answer=addition(4,2) \n",
    "\n",
    "print(answer)"
   ]
  },
  {
   "cell_type": "markdown",
   "metadata": {},
   "source": [
    "<p style=\"color:Blue; font-family:Helvetica; font-size:14px; font-weight:bold; font-style:italic\">\n",
    "Note: Suppose we try to assign the result of the function to a variable without returning the value, the variable does not hold any value and displays none when printed. as shown in example below\n",
    "</p>"
   ]
  },
  {
   "cell_type": "code",
   "execution_count": 7,
   "metadata": {},
   "outputs": [
    {
     "name": "stdout",
     "output_type": "stream",
     "text": [
      "6\n",
      "The result stored in answer is  None\n"
     ]
    }
   ],
   "source": [
    "def addition(num1,num2):\n",
    "    print(num1+num2) # observe; we are not returning any value\n",
    "\n",
    "answer=addition(4,2) # observe the o/p; the variable holds no value and displays none. \n",
    "\n",
    "print('The result stored in answer is ',answer)"
   ]
  },
  {
   "cell_type": "markdown",
   "metadata": {},
   "source": [
    "<p style=\"color:Blue; font-family:Helvetica; font-size:14px; font-weight:bold; font-style:italic\">\n",
    "Note: In python every thing is an object including function, therefore, we can pass a function as an argument within another function as shown in the following example\n",
    "</p>"
   ]
  },
  {
   "cell_type": "code",
   "execution_count": 8,
   "metadata": {},
   "outputs": [
    {
     "name": "stdout",
     "output_type": "stream",
     "text": [
      "[2, 4, 6, 8, 10]\n"
     ]
    }
   ],
   "source": [
    "myList=[1,2,3,4,5,6,7,8,9,10]\n",
    "\n",
    "# now lets define a function to extract even numbers from the list\n",
    "def even_number(num):\n",
    "   if num%2==0:\n",
    "    return num\n",
    "\n",
    "# lets use the defined function to extract even numbers from the list in another built-in function filter()\n",
    "evens=list(filter(even_number,myList))\n",
    "print(evens)    "
   ]
  },
  {
   "cell_type": "markdown",
   "metadata": {},
   "source": [
    "## Lambda expressions or anonymous functions\n",
    "\n",
    "#### As we have seen in previous examples, we have to define and later call the function inorder to acheive specific task.\n",
    "\n",
    "#### However if the funtion block involves <span style=\"color:blue; font-size:16px; font-style:italic\"> one single expression</span> we can achieve the same result using <span style=\"color:blue; font-size:16px; font-style:italic\">Lambda expression</span> instead of defining the function in usual way\n",
    "\n",
    "#### Lambda expressions does not have a function name. Lambda is not a function name, its a keyword which conveys that it is an anonymous function. \n",
    "\n",
    "#### We can use lambda expressions directly in the programs code or assign it to a variable and use it multiple times as a function.\n",
    "\n",
    "#### Lambda expressions makes the code simpler and reduces the number of code lines."
   ]
  },
  {
   "cell_type": "markdown",
   "metadata": {},
   "source": [
    "### Lambda expression syntaxes\n",
    "\n",
    "**```\n",
    "lambda variable_name:expression\n",
    "lambda variable_name1, variable_name2, .......:expression```**\n",
    "\n",
    "#### The usage of lamba expression is illustrated below"
   ]
  },
  {
   "cell_type": "markdown",
   "metadata": {},
   "source": [
    "### Example 5: Finding even numbers in the list using lambda expression\n",
    "\n",
    "#### Let us take the same previous example. In previous example we defined a function using def to find the even number and used it as argument in filter() function. \n",
    "\n",
    "#### In the example below,  we will use lambda expression as argument within filter() function and achieve the objective of extracting even numbers from the list"
   ]
  },
  {
   "cell_type": "code",
   "execution_count": 9,
   "metadata": {},
   "outputs": [
    {
     "name": "stdout",
     "output_type": "stream",
     "text": [
      "[2, 4, 6, 8, 10]\n"
     ]
    }
   ],
   "source": [
    "myList=[1,2,3,4,5,6,7,8,9,10]\n",
    "\n",
    "evens=list(filter(lambda num:num%2==0,myList))\n",
    "print(evens)  "
   ]
  },
  {
   "cell_type": "code",
   "execution_count": 10,
   "metadata": {},
   "outputs": [
    {
     "name": "stdout",
     "output_type": "stream",
     "text": [
      "[2, 4, 6, 8, 10]\n"
     ]
    }
   ],
   "source": [
    "# we can also assign the lambda expression to a variable and use it as a function. \n",
    "# Let us take the same previous example to illustrate\n",
    "\n",
    "even_number=lambda num:num%2==0\n",
    "\n",
    "evens=list(filter(even_number,myList))\n",
    "print(evens)"
   ]
  }
 ],
 "metadata": {
  "kernelspec": {
   "display_name": "Python 3",
   "language": "python",
   "name": "python3"
  },
  "language_info": {
   "codemirror_mode": {
    "name": "ipython",
    "version": 3
   },
   "file_extension": ".py",
   "mimetype": "text/x-python",
   "name": "python",
   "nbconvert_exporter": "python",
   "pygments_lexer": "ipython3",
   "version": "3.7.0"
  }
 },
 "nbformat": 4,
 "nbformat_minor": 2
}
