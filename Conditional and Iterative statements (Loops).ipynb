{
 "cells": [
  {
   "cell_type": "markdown",
   "metadata": {},
   "source": [
    "# Conditional statements\n",
    "\n",
    "#### Conditional statements are used to execute block of statements depending upon whether the desired condition is satisfied or not."
   ]
  },
  {
   "cell_type": "markdown",
   "metadata": {},
   "source": [
    "## IF statement\n",
    "\n",
    "### Checks whether the condition is satified; executes statements within the block if the condition is True\n",
    "\n",
    "#### Syntax: \n",
    "**```\n",
    "   if condition:\n",
    "       Statement(s)\n",
    "```**"
   ]
  },
  {
   "cell_type": "code",
   "execution_count": 1,
   "metadata": {},
   "outputs": [
    {
     "name": "stdout",
     "output_type": "stream",
     "text": [
      "True\n"
     ]
    }
   ],
   "source": [
    "if 2<6:\n",
    "    print('True')"
   ]
  },
  {
   "cell_type": "markdown",
   "metadata": {},
   "source": [
    "### We can even mention multiple conditions\n",
    "\n",
    "#### Syntax: \n",
    "**```\n",
    "if condition1 and condition2:\n",
    "        Statement(s)\n",
    "```**"
   ]
  },
  {
   "cell_type": "code",
   "execution_count": 2,
   "metadata": {},
   "outputs": [
    {
     "name": "stdout",
     "output_type": "stream",
     "text": [
      "true\n"
     ]
    }
   ],
   "source": [
    "if 2<6 and 3<6: # if keyword-and is mentioned between the conditions; all the conditions must be true to execute the block \n",
    "    print('true')"
   ]
  },
  {
   "cell_type": "code",
   "execution_count": 3,
   "metadata": {},
   "outputs": [],
   "source": [
    "# if keyword-and is mentioned between the conditions;if one or more conditions are false then it will not execute the block of statements\n",
    "if 2<6 and 8<6: \n",
    "    print('true')"
   ]
  },
  {
   "cell_type": "code",
   "execution_count": 4,
   "metadata": {},
   "outputs": [
    {
     "name": "stdout",
     "output_type": "stream",
     "text": [
      "true\n"
     ]
    }
   ],
   "source": [
    "# However if we mention keyword-or instead of keyword-and; then the block gets executed if one of the conditions is true\n",
    "if 2<6 or 8<6:\n",
    "    print('true')"
   ]
  },
  {
   "cell_type": "markdown",
   "metadata": {},
   "source": [
    "## IF-ELSE statement\n",
    "\n",
    "### Checks whether the condition is satified; executes statements within the 'if block' if the condition is True else it executes statements defined within 'else block'\n",
    "\n",
    "#### Syntax: \n",
    "**```\n",
    "if condition:\n",
    "   Statement(s)\n",
    "else:\n",
    "    Statement(s)\n",
    "```**"
   ]
  },
  {
   "cell_type": "code",
   "execution_count": 5,
   "metadata": {},
   "outputs": [
    {
     "name": "stdout",
     "output_type": "stream",
     "text": [
      "False\n"
     ]
    }
   ],
   "source": [
    "if 2>6:\n",
    "    print('True')\n",
    "else:\n",
    "    print('False')"
   ]
  },
  {
   "cell_type": "markdown",
   "metadata": {},
   "source": [
    "## ELIF statement\n",
    "\n",
    "### used to check multiple conditions and execute the statements that matches the desired condition\n",
    "#### Syntax: \n",
    "**```\n",
    "if condition:\n",
    "   Statement(s)\n",
    "elif condition:\n",
    "    Statement(s)\n",
    "else:\n",
    "    Statement(s)\n",
    "```**"
   ]
  },
  {
   "cell_type": "code",
   "execution_count": 6,
   "metadata": {},
   "outputs": [
    {
     "name": "stdout",
     "output_type": "stream",
     "text": [
      "2 is less than 6\n"
     ]
    }
   ],
   "source": [
    "if 2<6:\n",
    "    print('2 is less than 6')\n",
    "elif 2==6:\n",
    "    print('2 is not equal to 6')\n",
    "else:\n",
    "    print('No matches')"
   ]
  },
  {
   "cell_type": "markdown",
   "metadata": {},
   "source": [
    "### We can also use nested IF or IF-Else statements ie multiple IF or IF-else statements within IF statements"
   ]
  },
  {
   "cell_type": "code",
   "execution_count": 7,
   "metadata": {},
   "outputs": [
    {
     "name": "stdout",
     "output_type": "stream",
     "text": [
      "True\n"
     ]
    }
   ],
   "source": [
    "if 2<6:\n",
    "    if 2<4:\n",
    "        print('True')"
   ]
  },
  {
   "cell_type": "markdown",
   "metadata": {},
   "source": [
    "# Iterative statements (loops)\n",
    "\n",
    "#### iterative statements or loops are used to execute block of statements multiple times."
   ]
  },
  {
   "cell_type": "markdown",
   "metadata": {},
   "source": [
    "## FOR loop\n",
    "\n",
    "#### Syntax: \n",
    "**```\n",
    "for variable name in sequence:\n",
    "   Statement(s)\n",
    "```**"
   ]
  },
  {
   "cell_type": "markdown",
   "metadata": {},
   "source": [
    "### To extract items in a sequence such as strings, lists,tuples or dictionaries"
   ]
  },
  {
   "cell_type": "code",
   "execution_count": 8,
   "metadata": {},
   "outputs": [
    {
     "name": "stdout",
     "output_type": "stream",
     "text": [
      "p\n",
      "a\n",
      "v\n",
      "a\n",
      "n\n"
     ]
    }
   ],
   "source": [
    "string='pavan'\n",
    "for character in string:\n",
    "    print(character)"
   ]
  },
  {
   "cell_type": "code",
   "execution_count": 9,
   "metadata": {},
   "outputs": [
    {
     "name": "stdout",
     "output_type": "stream",
     "text": [
      "1\n",
      "2\n",
      "3\n"
     ]
    }
   ],
   "source": [
    "myList=[1,2,3]\n",
    "for val in myList:\n",
    "    print(val)"
   ]
  },
  {
   "cell_type": "code",
   "execution_count": 10,
   "metadata": {},
   "outputs": [
    {
     "name": "stdout",
     "output_type": "stream",
     "text": [
      "1\n",
      "2\n",
      "3\n"
     ]
    }
   ],
   "source": [
    "myTup=(1,2,3)\n",
    "for val in myTup:\n",
    "    print(val)"
   ]
  },
  {
   "cell_type": "code",
   "execution_count": 11,
   "metadata": {},
   "outputs": [
    {
     "name": "stdout",
     "output_type": "stream",
     "text": [
      "a\n",
      "b\n",
      "c\n"
     ]
    }
   ],
   "source": [
    "myDict={1:'a',2:'b',3:'c'}\n",
    "for idx in myDict:\n",
    "    print(myDict[idx])"
   ]
  },
  {
   "cell_type": "markdown",
   "metadata": {},
   "source": [
    "### To repeat an action desired number of times using built-in function -range() "
   ]
  },
  {
   "cell_type": "code",
   "execution_count": 12,
   "metadata": {},
   "outputs": [
    {
     "name": "stdout",
     "output_type": "stream",
     "text": [
      "1\n",
      "2\n",
      "3\n",
      "4\n",
      "5\n"
     ]
    }
   ],
   "source": [
    "for val in range(1,6):\n",
    "    print(val)"
   ]
  },
  {
   "cell_type": "code",
   "execution_count": 13,
   "metadata": {},
   "outputs": [
    {
     "name": "stdout",
     "output_type": "stream",
     "text": [
      "Hi!\n",
      "Hi!\n",
      "Hi!\n",
      "Hi!\n",
      "Hi!\n"
     ]
    }
   ],
   "source": [
    "for i in range(1,6):\n",
    "    print('Hi!')"
   ]
  },
  {
   "cell_type": "markdown",
   "metadata": {},
   "source": [
    "### We can even give the step size in range() function"
   ]
  },
  {
   "cell_type": "code",
   "execution_count": 14,
   "metadata": {},
   "outputs": [
    {
     "name": "stdout",
     "output_type": "stream",
     "text": [
      "1\n",
      "3\n",
      "5\n"
     ]
    }
   ],
   "source": [
    "for num in range(1,6,2):\n",
    "    print(num)"
   ]
  },
  {
   "cell_type": "code",
   "execution_count": 15,
   "metadata": {},
   "outputs": [
    {
     "name": "stdout",
     "output_type": "stream",
     "text": [
      "6\n",
      "4\n",
      "2\n"
     ]
    }
   ],
   "source": [
    "for num in range(6,1,-2):#negetive step size to execute from high to low\n",
    "    print(num)"
   ]
  },
  {
   "cell_type": "markdown",
   "metadata": {},
   "source": [
    "### List comprehensions (using single line for loop)\n",
    "\n",
    "#### For loops can also be used in <span style=\"color:blue; font-size:16px; font-style:italic\">single line format</span> for important application like <span style=\"color:blue; font-size:16px; font-style:italic\"> 'List Comprehensions'</span>.\n",
    "\n",
    "#### List comprehension - Creating new list from other iterables\n",
    "\n",
    "#### Generic Syntaxes:\n",
    "**```\n",
    "listVariable=[expression for variable in iterable]\n",
    "listVariable=[expression for variable1 in iterable1 for variable2 in iterable2 ]\n",
    "listVariable=[expression for variable in iterable if <test>]\n",
    "listVariable=[expression for variable in iterable if <test1> and <test2>]\n",
    "```**"
   ]
  },
  {
   "cell_type": "markdown",
   "metadata": {},
   "source": [
    "### Example 1: Create list of squares of numbers between 1 and 5 ie [1<sup>2</sup>,2<sup>2</sup>,3<sup>2</sup>,4<sup>2</sup>,5<sup>2</sup>]"
   ]
  },
  {
   "cell_type": "code",
   "execution_count": 16,
   "metadata": {},
   "outputs": [
    {
     "data": {
      "text/plain": [
       "[1, 4, 9, 16, 25]"
      ]
     },
     "execution_count": 16,
     "metadata": {},
     "output_type": "execute_result"
    }
   ],
   "source": [
    "squares=[x**2 for x in range(1,6)] #this is an example for simple expression (x**2)\n",
    "# double asterix(**)denotes exponent(to the power) operator; \n",
    "squares"
   ]
  },
  {
   "cell_type": "markdown",
   "metadata": {},
   "source": [
    "<p style=\"color:Blue; font-family:Helvetica; font-size:14px; font-weight:bold; font-style:italic\">\n",
    "Note:We can also include complex expressions such as one below\n",
    "</p>\n",
    "\n",
    "### Example 2: create a list of remainders when we divide first 20 squares by 5"
   ]
  },
  {
   "cell_type": "code",
   "execution_count": 17,
   "metadata": {},
   "outputs": [
    {
     "data": {
      "text/plain": [
       "[1, 4, 4, 1, 0, 1, 4, 4, 1, 0, 1, 4, 4, 1, 0, 1, 4, 4, 1, 0]"
      ]
     },
     "execution_count": 17,
     "metadata": {},
     "output_type": "execute_result"
    }
   ],
   "source": [
    "rem=[x**2%5 for x in range(1,21)]\n",
    "rem"
   ]
  },
  {
   "cell_type": "markdown",
   "metadata": {},
   "source": [
    "### Example 3: Create list of Cartesian product given two sets A and B ie $ { (a,b) | a \\in A, b \\in B }$"
   ]
  },
  {
   "cell_type": "code",
   "execution_count": 18,
   "metadata": {},
   "outputs": [
    {
     "data": {
      "text/plain": [
       "[(1, 4), (1, 5), (1, 6), (2, 4), (2, 5), (2, 6), (3, 4), (3, 5), (3, 6)]"
      ]
     },
     "execution_count": 18,
     "metadata": {},
     "output_type": "execute_result"
    }
   ],
   "source": [
    "A=[1,2,3]\n",
    "B=[4,5,6]\n",
    "C=[(a,b) for a in A for b in B]\n",
    "C"
   ]
  },
  {
   "cell_type": "markdown",
   "metadata": {},
   "source": [
    "<p style=\"color:Blue; font-family:Helvetica; font-size:14px; font-weight:bold; font-style:italic\">\n",
    "Note:We can add conditions using if statements as shown in example below\n",
    "</p>\n",
    "\n",
    "### Example 4: Create a list of squares of even numbers between 1 and 5 i.e [2<sup>2</sup>,4<sup>2</sup>]"
   ]
  },
  {
   "cell_type": "code",
   "execution_count": 19,
   "metadata": {},
   "outputs": [
    {
     "data": {
      "text/plain": [
       "[4, 16]"
      ]
     },
     "execution_count": 19,
     "metadata": {},
     "output_type": "execute_result"
    }
   ],
   "source": [
    "evenNum=[x**2 for x in range(1,5) if x%2==0] \n",
    "evenNum"
   ]
  },
  {
   "cell_type": "markdown",
   "metadata": {},
   "source": [
    "### Example 5: Create a new list of names that starts with letter 'P' in a given list of names "
   ]
  },
  {
   "cell_type": "code",
   "execution_count": 20,
   "metadata": {},
   "outputs": [
    {
     "data": {
      "text/plain": [
       "['pavan', 'prashanth']"
      ]
     },
     "execution_count": 20,
     "metadata": {},
     "output_type": "execute_result"
    }
   ],
   "source": [
    "nameList=['pavan','raksha','mala','ram','prashanth','sham','surabhi','geetha']\n",
    "newNames=[name for name in nameList if name.startswith('p')]\n",
    "newNames"
   ]
  },
  {
   "cell_type": "markdown",
   "metadata": {},
   "source": [
    "<p style=\"color:Blue; font-family:Helvetica; font-size:14px; font-weight:bold; font-style:italic\">\n",
    "Note:We can add multiple conditions using multiple if statements as shown in examples below\n",
    "</p>\n"
   ]
  },
  {
   "cell_type": "markdown",
   "metadata": {},
   "source": [
    "### Example 6:Create a new list of names that starts with letter 'P'  and length of characters less than 6 "
   ]
  },
  {
   "cell_type": "code",
   "execution_count": 21,
   "metadata": {},
   "outputs": [
    {
     "data": {
      "text/plain": [
       "['pavan']"
      ]
     },
     "execution_count": 21,
     "metadata": {},
     "output_type": "execute_result"
    }
   ],
   "source": [
    "nameList=['pavan','raksha','mala','ram','prashanth','sham','surabhi','geetha']\n",
    "newNames=[name for name in nameList if name.startswith('p') and len(name)<6]\n",
    "newNames"
   ]
  },
  {
   "cell_type": "markdown",
   "metadata": {},
   "source": [
    "### Example 7:Create a new list of names that starts with letter 'P'  and age less than 30 in a given list of names "
   ]
  },
  {
   "cell_type": "code",
   "execution_count": 22,
   "metadata": {},
   "outputs": [
    {
     "data": {
      "text/plain": [
       "['pavan']"
      ]
     },
     "execution_count": 22,
     "metadata": {},
     "output_type": "execute_result"
    }
   ],
   "source": [
    "# we can also iterate over tuples\n",
    "nameList=[('pavan',28),('raksha',25),('mala',50),('ram',43),('prashanth',38),('sham',18),('surabhi',53),('geetha',23)]\n",
    "newNames=[name for (name,age) in nameList if name.startswith('p') and age<30]\n",
    "newNames"
   ]
  },
  {
   "cell_type": "markdown",
   "metadata": {},
   "source": [
    "### Example 8: To perform scalar multiplication\n",
    "\n",
    "#### Background: Suppose we consider a list of values as a vector and we have  to perform scalar multiplication ie we have to multiply number 4 with each element whithin the list. That is 2\\*[1,2,3] and the o/p should be [2,4,6]. \n",
    "\n",
    "#### But 2\\*[1,2,3] is actually a list repetition operation which produce the o/p as [1,2,3,1,2,3]\n",
    "\n",
    "#### therefore we can use list comprehension with single line for loop to perform scalar multiplication and get the desired result as shown below"
   ]
  },
  {
   "cell_type": "code",
   "execution_count": 23,
   "metadata": {},
   "outputs": [
    {
     "data": {
      "text/plain": [
       "[2, 4, 6]"
      ]
     },
     "execution_count": 23,
     "metadata": {},
     "output_type": "execute_result"
    }
   ],
   "source": [
    "vect=[1,2,3]\n",
    "scalProd=[2*num for num in vect]\n",
    "scalProd"
   ]
  },
  {
   "cell_type": "markdown",
   "metadata": {},
   "source": [
    "### Dictionary comprehensions (using single line for loop)\n",
    "\n",
    "#### Similar to list comprehensions For loops can also be used in <span style=\"color:blue; font-size:16px; font-style:italic\">single line format</span> for applications like <span style=\"color:blue; font-size:16px; font-style:italic\"> 'Dictionary Comprehensions'</span>.\n",
    "\n",
    "#### Dictionary comprehension - Creating new Dictionary from other iterables.\n",
    "\n",
    "#### Dictionary compehension should invlove key-value pair\n",
    "\n",
    "#### Few examples of dictionary comprehensions are shown below:\n"
   ]
  },
  {
   "cell_type": "markdown",
   "metadata": {},
   "source": [
    "### Example 9:Create a dictionary of even numbers between 1 and 10"
   ]
  },
  {
   "cell_type": "code",
   "execution_count": 24,
   "metadata": {},
   "outputs": [
    {
     "data": {
      "text/plain": [
       "{1: 2, 2: 4, 3: 6, 4: 8}"
      ]
     },
     "execution_count": 24,
     "metadata": {},
     "output_type": "execute_result"
    }
   ],
   "source": [
    "myDict={x:x*2 for x in range(1,5)}\n",
    "myDict"
   ]
  },
  {
   "cell_type": "markdown",
   "metadata": {},
   "source": [
    "### Example 9:Create a dictionary of squares of even numbers between 1 and 10"
   ]
  },
  {
   "cell_type": "code",
   "execution_count": 25,
   "metadata": {},
   "outputs": [
    {
     "data": {
      "text/plain": [
       "{2: 4, 4: 16, 6: 36, 8: 64}"
      ]
     },
     "execution_count": 25,
     "metadata": {},
     "output_type": "execute_result"
    }
   ],
   "source": [
    "myDict={x:x**2 for x in range(1,10) if x%2==0}\n",
    "myDict"
   ]
  },
  {
   "cell_type": "markdown",
   "metadata": {},
   "source": [
    "### Example 10:Create a dictionary of a given list"
   ]
  },
  {
   "cell_type": "code",
   "execution_count": 26,
   "metadata": {},
   "outputs": [
    {
     "data": {
      "text/plain": [
       "{'p': 'p', 'a': 'a', 'v': 'v'}"
      ]
     },
     "execution_count": 26,
     "metadata": {},
     "output_type": "execute_result"
    }
   ],
   "source": [
    "myList=['p','a','v']\n",
    "myDict={x:x for x in myList}\n",
    "myDict"
   ]
  },
  {
   "cell_type": "markdown",
   "metadata": {},
   "source": [
    "## WHILE loop\n",
    "\n",
    "#### checks for the condition whether True in the beginning, if condition is satisfied it executes the statements whithin the loop repeatedly till condition becomes False.\n",
    "\n",
    "#### Syntax: \n",
    "**```\n",
    "while condition:\n",
    "   Statement(s)\n",
    "```**"
   ]
  },
  {
   "cell_type": "code",
   "execution_count": 27,
   "metadata": {},
   "outputs": [
    {
     "name": "stdout",
     "output_type": "stream",
     "text": [
      "0\n",
      "1\n",
      "2\n",
      "3\n",
      "4\n"
     ]
    }
   ],
   "source": [
    "x=0\n",
    "while x<5:\n",
    "    print(x)\n",
    "    x+=1"
   ]
  },
  {
   "cell_type": "markdown",
   "metadata": {},
   "source": [
    "### we can attach optional else clause with the while loop so that the statements whithin else block gets executed if conditon specified in while loop becomes unsatisfied."
   ]
  },
  {
   "cell_type": "code",
   "execution_count": 28,
   "metadata": {},
   "outputs": [
    {
     "name": "stdout",
     "output_type": "stream",
     "text": [
      "0\n",
      "1\n",
      "2\n",
      "3\n",
      "4\n",
      "Loop Terminated\n"
     ]
    }
   ],
   "source": [
    "x=0\n",
    "while x<5:\n",
    "    print(x)\n",
    "    x+=1\n",
    "else:\n",
    "    print('Loop Terminated')"
   ]
  },
  {
   "cell_type": "markdown",
   "metadata": {},
   "source": [
    "<p style=\"color:Blue; font-family:Helvetica; font-size:14px; font-weight:bold; font-style:italic\">\n",
    "Note:python allows control statements like break,continue and pass whithin the loop to achieve certain desired results while the loop is being executed.\n",
    "</p>"
   ]
  },
  {
   "cell_type": "markdown",
   "metadata": {},
   "source": [
    "## The break statement\n",
    "\n",
    "#### The break statement terminates the current loop and resumes execution at the next statement."
   ]
  },
  {
   "cell_type": "code",
   "execution_count": 29,
   "metadata": {},
   "outputs": [
    {
     "name": "stdout",
     "output_type": "stream",
     "text": [
      "0\n",
      "1\n",
      "2\n"
     ]
    }
   ],
   "source": [
    "x=0\n",
    "while x<5:\n",
    "    print(x)\n",
    "    x+=1\n",
    "    if x==3: \n",
    "        break\n",
    "        \n",
    "# observe o/p; loop gets terminated when x is equal to 3 because of break statement under if condition"
   ]
  },
  {
   "cell_type": "markdown",
   "metadata": {},
   "source": [
    "## The continue statement\n",
    "\n",
    "#### The continue statement can be used to skip execution of certain statements whithin the current loop. The control returns back to the begenning of the loop and skips the execution of rest of statements defined below the continue statement."
   ]
  },
  {
   "cell_type": "code",
   "execution_count": 30,
   "metadata": {},
   "outputs": [
    {
     "name": "stdout",
     "output_type": "stream",
     "text": [
      "p\n",
      "a\n",
      "a\n",
      "n\n"
     ]
    }
   ],
   "source": [
    "for char in 'pavan':\n",
    "    if char=='v':\n",
    "        continue\n",
    "    print(char)\n",
    "    \n",
    "# observe the o/p; the character v does not get printed as print statement is skipped because of continue statement "
   ]
  },
  {
   "cell_type": "markdown",
   "metadata": {},
   "source": [
    "## The pass statement\n",
    "\n",
    "#### The pass statement in Python is used when a statement is required syntactically but you do not want any command or code to execute.\n",
    "\n",
    "#### The pass statement is a null operation; nothing happens when it executes. The pass is also useful in places where your code will eventually go, but has not been written yet."
   ]
  },
  {
   "cell_type": "code",
   "execution_count": 31,
   "metadata": {},
   "outputs": [
    {
     "name": "stdout",
     "output_type": "stream",
     "text": [
      "Current Letter : P\n",
      "Current Letter : y\n",
      "Current Letter : t\n",
      "This is pass block\n",
      "Current Letter : h\n",
      "Current Letter : o\n",
      "Current Letter : n\n"
     ]
    }
   ],
   "source": [
    "for letter in 'Python': \n",
    "   if letter == 'h':\n",
    "      pass\n",
    "      print('This is pass block')\n",
    "   print('Current Letter :', letter)"
   ]
  },
  {
   "cell_type": "markdown",
   "metadata": {},
   "source": [
    "### we can also use nested loops in python"
   ]
  },
  {
   "cell_type": "code",
   "execution_count": 32,
   "metadata": {},
   "outputs": [
    {
     "name": "stdout",
     "output_type": "stream",
     "text": [
      "1 1\n",
      "1 2\n",
      "1 3\n",
      "2 1\n",
      "2 2\n",
      "2 3\n",
      "3 1\n",
      "3 2\n",
      "3 3\n",
      "4 1\n",
      "4 2\n",
      "4 3\n"
     ]
    }
   ],
   "source": [
    "for i in range(1,5):\n",
    "    for j in range(1,4):\n",
    "        print(i,j)"
   ]
  }
 ],
 "metadata": {
  "kernelspec": {
   "display_name": "Python 3",
   "language": "python",
   "name": "python3"
  },
  "language_info": {
   "codemirror_mode": {
    "name": "ipython",
    "version": 3
   },
   "file_extension": ".py",
   "mimetype": "text/x-python",
   "name": "python",
   "nbconvert_exporter": "python",
   "pygments_lexer": "ipython3",
   "version": "3.7.0"
  }
 },
 "nbformat": 4,
 "nbformat_minor": 2
}
