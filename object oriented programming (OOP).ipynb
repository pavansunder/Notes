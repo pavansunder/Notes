{
 "cells": [
  {
   "cell_type": "markdown",
   "metadata": {},
   "source": [
    "## Introduction\n",
    "\n",
    "#### Let us take a simple real life example to understand concepts of OOP\n",
    "#### Consider 'Human Beings'\n",
    "#### We know, there are many human beings and every human being has different body parts (can be called as attributes) such as eyes, legs, ears etc.\n",
    "#### And with the help of these attributes, human beings show different behaviours such as walk, see, eat, talk etc."
   ]
  },
  {
   "cell_type": "markdown",
   "metadata": {},
   "source": [
    "## Applying the Human being analogy to programming\n",
    "\n",
    "#### Based on above example we can consider human being as a class and each human being as the instance of the class called as object. Hence the name, OOP (object oriented programming) which is a programming paradigm structured around objects.\n",
    "#### A class can be considered as blue print/design/model of an object, which defines object's attributes and behaviours.\n",
    "#### The attributes can be implemented through variables which stores a value and behaviours through methods(functions) which contains the block of code that operates on the variables"
   ]
  },
  {
   "cell_type": "markdown",
   "metadata": {},
   "source": [
    "## Fundamentals of OOP:\n",
    "\n",
    "#### 1. Encapsulation\n",
    "#### 2. Abstraction\n",
    "#### 3. Inheritence\n",
    "#### 4. Polymorphism"
   ]
  },
  {
   "cell_type": "markdown",
   "metadata": {},
   "source": [
    "## Encapsulation\n",
    "\n",
    "#### Encapsulation is one of the fundamentals of OOP. It refers to the bundling of data/variables/attributes with the methods that operate on that data. The data and the methods are bound within a class."
   ]
  },
  {
   "cell_type": "markdown",
   "metadata": {},
   "source": [
    "### Class\n",
    "\n",
    "#### The class is implemented by using a keyword called class.\n",
    "#### Syntax:\n",
    "**```\n",
    "class class_name:```**"
   ]
  },
  {
   "cell_type": "code",
   "execution_count": 2,
   "metadata": {},
   "outputs": [],
   "source": [
    "class Human:\n",
    "    pass"
   ]
  },
  {
   "cell_type": "markdown",
   "metadata": {},
   "source": [
    "### Object\n",
    "\n",
    "#### The object is the instance of a class and can be instantiated by the following syntax.\n",
    "#### Syntax:\n",
    "**```\n",
    "object_name=class_name():```**"
   ]
  },
  {
   "cell_type": "code",
   "execution_count": 7,
   "metadata": {},
   "outputs": [
    {
     "name": "stdout",
     "output_type": "stream",
     "text": [
      "type of obj_1 is:  <class '__main__.Human'>\n",
      "type of obj_2 is:  <class '__main__.Human'>\n"
     ]
    }
   ],
   "source": [
    "obj_1=Human()\n",
    "obj_2=Human()\n",
    "\n",
    "# Here we have created two objects - obj_1 and obj_2 of class Human\n",
    "# we can check their type (i.e whether they are objects) by printing the type of obj_1 and obj_2 using type function\n",
    "\n",
    "print('type of obj_1 is: ',type(obj_1))\n",
    "print('type of obj_2 is: ',type(obj_1))"
   ]
  },
  {
   "cell_type": "markdown",
   "metadata": {},
   "source": [
    "## Creating attributes and methods within the class\n",
    "\n",
    "#### let us create attributes (through variables) and behaviours(through methods/functions) for Human class\n",
    "#### Intially let us create a method called intro where we  define 3 attributes, name,age and complexion\n",
    " "
   ]
  },
  {
   "cell_type": "code",
   "execution_count": 35,
   "metadata": {},
   "outputs": [],
   "source": [
    "class Human:\n",
    "    def intro(self):\n",
    "        self.name='pavan'\n",
    "        self.age=28\n",
    "        self.complexion='fair'        "
   ]
  },
  {
   "cell_type": "markdown",
   "metadata": {},
   "source": [
    "<p style=\"color:Blue; font-family:Helvetica; font-size:14px; font-weight:bold; font-style:italic\">\n",
    "Note: We have used a word called self as the first argument in intro method.<br/> \n",
    "1. Self is not a keyword but a variable, it basically represents the instance of the class (we also get the result if we use any word other than self also but according general practice its recommended to use self.<br/>\n",
    "2.when an object of the class is instantiated, and the method is accessed through the object, the object is passed as the first argument and self represents the object through which the method is called</p>"
   ]
  },
  {
   "cell_type": "markdown",
   "metadata": {},
   "source": [
    "#### let us create an object of the class Human and call the method intro through the object"
   ]
  },
  {
   "cell_type": "code",
   "execution_count": 39,
   "metadata": {},
   "outputs": [],
   "source": [
    "obj1=Human() # creating the object of the class Human\n",
    "\n",
    "# Let us call the method intro that belong to the class Human through the object by the following syntax:\n",
    "Human.intro(obj1)\n",
    "\n",
    "# Recall we have passed self as the first argument in intro method definition\n",
    "# But here we are passing object as the parameter in the intro method. As a consequence, self now represent the object through which the method will be accessed.\n",
    "# Similary we can create as many objects of the class and access the methods through the objects."
   ]
  },
  {
   "cell_type": "markdown",
   "metadata": {},
   "source": [
    "### Most commonly used syntax to access the variables and methods of the class\n",
    "\n",
    "#### In the previous illustration, we have used Human.intro(obj1) to access the methods of the class;\n",
    "#### However, we have more widely and commonly used syntax as shown below, which performs the same action and henceforth we shall use the new syntax to access methods of the class."
   ]
  },
  {
   "cell_type": "code",
   "execution_count": 43,
   "metadata": {},
   "outputs": [
    {
     "name": "stdout",
     "output_type": "stream",
     "text": [
      "pavan\n",
      "28\n",
      "fair\n"
     ]
    }
   ],
   "source": [
    "# Most commonly ysed syntax\n",
    "# recall through the statement : obj1=Human(), we have already created an object obj1 of class Human\n",
    "# as an alternative to Human.intro(obj1), we shall use the following syntax to access methods:\n",
    "\n",
    "obj1.intro() #As before, obj1 we be passed as 1st argument into the function and self represents the object.\n",
    "\n",
    "# we can now access the variables defined within the intro method through the object\n",
    "print(obj1.name)\n",
    "print(obj1.age)\n",
    "print(obj1.complexion)"
   ]
  },
  {
   "cell_type": "markdown",
   "metadata": {},
   "source": [
    "<p style=\"color:Blue; font-family:Helvetica; font-size:14px; font-weight:bold; font-style:italic\">\n",
    "Note: we can create as many objects as we want of the class </p>"
   ]
  },
  {
   "cell_type": "code",
   "execution_count": 46,
   "metadata": {},
   "outputs": [
    {
     "name": "stdout",
     "output_type": "stream",
     "text": [
      "pavan\n",
      "28\n",
      "fair\n"
     ]
    }
   ],
   "source": [
    "obj2=Human() # we will create another object.\n",
    "\n",
    "# similar to previous illustration we can access methods of the class through the object.\n",
    "obj2.intro()\n",
    "print(obj2.name)\n",
    "print(obj2.age)\n",
    "print(obj2.complexion)"
   ]
  },
  {
   "cell_type": "markdown",
   "metadata": {},
   "source": [
    "<p style=\"color:Blue; font-family:Helvetica; font-size:14px; font-weight:bold; font-style:italic\">\n",
    "Note: we can also assign different values to each object </p>"
   ]
  },
  {
   "cell_type": "code",
   "execution_count": 50,
   "metadata": {},
   "outputs": [
    {
     "name": "stdout",
     "output_type": "stream",
     "text": [
      "Default name as per function definition: pavan\n",
      "new name after modification: pavan sunder\n"
     ]
    }
   ],
   "source": [
    "print('Default name as per function definition:',obj1.name)\n",
    "\n",
    "# lets modify the value\n",
    "obj1.name='pavan sunder'\n",
    "\n",
    "# printing\n",
    "print('new name after modification:',obj1.name)"
   ]
  },
  {
   "cell_type": "markdown",
   "metadata": {},
   "source": [
    "<p style=\"color:Blue; font-family:Helvetica; font-size:14px; font-weight:bold; font-style:italic\">\n",
    "Note: any modifications made will be applicable only to that particular object through which the method and variables are accessed. Whereas, other objects of the class will have the default values unless modified using the corresponding object which is illustrated before </p>"
   ]
  },
  {
   "cell_type": "code",
   "execution_count": 57,
   "metadata": {},
   "outputs": [
    {
     "name": "stdout",
     "output_type": "stream",
     "text": [
      "new name of obj1 after modification: pavan sunder\n",
      "name of obj2: pavan\n"
     ]
    }
   ],
   "source": [
    "# recall we have modified the name using the instance obj1\n",
    "print('new name of obj1 after modification:',obj1.name)\n",
    "\n",
    "# whereas other objects will still have the default values, Ex:\n",
    "print('name of obj2:',obj2.name)"
   ]
  },
  {
   "cell_type": "markdown",
   "metadata": {},
   "source": [
    "<p style=\"color:Blue; font-family:Helvetica; font-size:14px; font-weight:bold; font-style:italic\">\n",
    "Note: It is not mandatory to define default values during method definition, We can also assign values to objects by passing the values as arguments within the parantheses in the method call, which is illustrated below  </p>"
   ]
  },
  {
   "cell_type": "code",
   "execution_count": 71,
   "metadata": {},
   "outputs": [
    {
     "name": "stdout",
     "output_type": "stream",
     "text": [
      "obj1_name: pavan\n",
      "obj1_age: 28\n",
      "obj1_complexion: fair\n",
      "\n",
      "obj2_name: pavan sunder\n",
      "obj2_age: 30\n",
      "obj2_complexion: wheatish\n"
     ]
    }
   ],
   "source": [
    "# let us recreate human class again\n",
    "\n",
    "class Human:\n",
    "    \n",
    "    def intro(self,name,age,complexion):\n",
    "        self.name=name\n",
    "        self.age=age\n",
    "        self.complexion=complexion\n",
    "        \n",
    "# create objects obj1 and obj2\n",
    "\n",
    "obj1=Human()\n",
    "obj2=Human()\n",
    "\n",
    "# assigning values\n",
    "\n",
    "obj1.intro('pavan',28,'fair')\n",
    "obj2.intro('pavan sunder',30,'wheatish')\n",
    "\n",
    "# printing\n",
    "print('obj1_name:',obj1.name)\n",
    "print('obj1_age:',obj1.age)\n",
    "print('obj1_complexion:',obj1.complexion)\n",
    "\n",
    "print('\\nobj2_name:',obj2.name)\n",
    "print('obj2_age:',obj2.age)\n",
    "print('obj2_complexion:',obj2.complexion)"
   ]
  },
  {
   "cell_type": "markdown",
   "metadata": {},
   "source": [
    "#### Recall we have created intro method to define variables.\n",
    "#### instead, in generally we use a constructor \\__init__ to define the variables. The \\__init__ gets automatically called when the object is created as illustrated below:"
   ]
  },
  {
   "cell_type": "code",
   "execution_count": 76,
   "metadata": {},
   "outputs": [
    {
     "name": "stdout",
     "output_type": "stream",
     "text": [
      "pavan is 28 yrs of age with fair complexion!\n",
      "pavan sunder is 30 yrs of age with wheatish complexion!\n"
     ]
    }
   ],
   "source": [
    "# let us recreate human class again\n",
    "\n",
    "class Human:\n",
    "    \n",
    "    def __init__(self,name,age,complexion):\n",
    "        self.name=name\n",
    "        self.age=age\n",
    "        self.complexion=complexion\n",
    "        \n",
    "        print('{} is {} yrs of age with {} complexion!'.format(self.name,self.age,self.complexion))\n",
    "        \n",
    "# create objects obj1 and obj2\n",
    "# note we are not calling the init method it automatically gets called when we create the objects\n",
    "\n",
    "obj1=Human('pavan',28,'fair')\n",
    "obj2=Human('pavan sunder',30,'wheatish')"
   ]
  },
  {
   "cell_type": "markdown",
   "metadata": {},
   "source": [
    "#### Encapsulation is also used to hide the values or state of a structured data object inside a class, preventing unauthorized parties' direct access to them. \n",
    "\n",
    "#### Generally data can be made private preventing direct access, however, publicly accessible methods can be provided in the class (so-called getters and setters) to access the values, and other client classes call these methods to retrieve and modify the values within the object.\n",
    "\n",
    "#### however in python there is no way to enforce private. However, by using leading double underscore before an attribute (results in data mangling) we can protect the data to some extent.\n"
   ]
  },
  {
   "cell_type": "markdown",
   "metadata": {},
   "source": [
    "<p style=\"color:Blue; font-family:Helvetica; font-size:14px; font-weight:bold; font-style:italic\">\n",
    "Note:<br/>\n",
    "1. Using double underscore as a prefix before the variable results in data mangling which is illustrated below.<br/>\n",
    "2. when double underscore is used as prefix the attribute no longer remains in the same \n",
    "</p>\n"
   ]
  },
  {
   "cell_type": "code",
   "execution_count": 2,
   "metadata": {},
   "outputs": [
    {
     "ename": "AttributeError",
     "evalue": "'Human' object has no attribute '__name'",
     "output_type": "error",
     "traceback": [
      "\u001b[1;31m---------------------------------------------------------------------------\u001b[0m",
      "\u001b[1;31mAttributeError\u001b[0m                            Traceback (most recent call last)",
      "\u001b[1;32m<ipython-input-2-4ac25f086d07>\u001b[0m in \u001b[0;36m<module>\u001b[1;34m()\u001b[0m\n\u001b[0;32m      5\u001b[0m \u001b[1;33m\u001b[0m\u001b[0m\n\u001b[0;32m      6\u001b[0m \u001b[0mobj\u001b[0m\u001b[1;33m=\u001b[0m\u001b[0mHuman\u001b[0m\u001b[1;33m(\u001b[0m\u001b[1;33m)\u001b[0m\u001b[1;33m\u001b[0m\u001b[0m\n\u001b[1;32m----> 7\u001b[1;33m \u001b[0mprint\u001b[0m\u001b[1;33m(\u001b[0m\u001b[0mobj\u001b[0m\u001b[1;33m.\u001b[0m\u001b[0m__name\u001b[0m\u001b[1;33m)\u001b[0m\u001b[1;33m\u001b[0m\u001b[0m\n\u001b[0m",
      "\u001b[1;31mAttributeError\u001b[0m: 'Human' object has no attribute '__name'"
     ]
    }
   ],
   "source": [
    "class Human:\n",
    "\n",
    "    def __init__(self):\n",
    "        self.__name = None\n",
    "\n",
    "obj=Human()\n",
    "print(obj.__name)"
   ]
  },
  {
   "cell_type": "markdown",
   "metadata": {},
   "source": [
    "class Human:\n",
    "\n",
    "    def __init__(self):\n",
    "        self.__name = None\n",
    " \n",
    "    def get_name(self):\n",
    "        print('The name is: ',self.__name)\n",
    "        \n",
    "    def set_name(self):\n",
    "        print('Enter the name: ',end=\"\")\n",
    "        name=input()\n",
    "        self.__name=name\n",
    " \n",
    "obj=Human()\n",
    "obj.get_name()\n",
    "obj.set_name()\n",
    "obj.get_name()"
   ]
  },
  {
   "cell_type": "markdown",
   "metadata": {},
   "source": [
    "<p style=\"color:Blue; font-family:Helvetica; font-size:14px; font-weight:bold; font-style:italic\">\n",
    "Note:....\n",
    "</p>\n"
   ]
  },
  {
   "cell_type": "markdown",
   "metadata": {},
   "source": [
    "<p style=\"color:Blue; font-family:Helvetica; font-size:14px; font-weight:bold; font-style:italic\">\n",
    "Note:....\n",
    "</p>\n"
   ]
  },
  {
   "cell_type": "markdown",
   "metadata": {},
   "source": [
    "<p style=\"color:Blue; font-family:Helvetica; font-size:14px; font-weight:bold; font-style:italic\">\n",
    "Note:....\n",
    "</p>\n"
   ]
  },
  {
   "cell_type": "markdown",
   "metadata": {},
   "source": [
    "<p style=\"color:Blue; font-family:Helvetica; font-size:14px; font-weight:bold; font-style:italic\">\n",
    "Note:....\n",
    "</p>\n"
   ]
  },
  {
   "cell_type": "markdown",
   "metadata": {},
   "source": []
  }
 ],
 "metadata": {
  "kernelspec": {
   "display_name": "Python 3",
   "language": "python",
   "name": "python3"
  },
  "language_info": {
   "codemirror_mode": {
    "name": "ipython",
    "version": 3
   },
   "file_extension": ".py",
   "mimetype": "text/x-python",
   "name": "python",
   "nbconvert_exporter": "python",
   "pygments_lexer": "ipython3",
   "version": "3.7.0"
  }
 },
 "nbformat": 4,
 "nbformat_minor": 2
}
